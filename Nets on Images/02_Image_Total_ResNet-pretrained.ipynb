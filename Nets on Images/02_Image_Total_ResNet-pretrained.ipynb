{
 "cells": [
  {
   "cell_type": "markdown",
   "metadata": {},
   "source": [
    "### In this notebook we investigatw the pretrianed Resnet on image data"
   ]
  },
  {
   "cell_type": "code",
   "execution_count": 1,
   "metadata": {},
   "outputs": [],
   "source": [
    "%reload_ext autoreload\n",
    "%autoreload 2\n",
    "%matplotlib inline"
   ]
  },
  {
   "cell_type": "markdown",
   "metadata": {},
   "source": [
    "### Importing the libraries"
   ]
  },
  {
   "cell_type": "code",
   "execution_count": 2,
   "metadata": {},
   "outputs": [],
   "source": [
    "import torch\n",
    "import torch.backends.cudnn as cudnn\n",
    "\n",
    "import torch.nn as nn\n",
    "import torch.utils.data as Data\n",
    "from torch.autograd import Function, Variable\n",
    "from torch.optim import lr_scheduler\n",
    "import torch.utils.model_zoo as model_zoo\n",
    "\n",
    "import torchvision\n",
    "import torchvision.transforms as transforms\n",
    "import torchvision.models as models\n",
    "\n",
    "\n",
    "from pathlib import Path\n",
    "import os\n",
    "import copy\n",
    "import math\n",
    "import matplotlib.pyplot as plt\n",
    "import numpy as np\n",
    "\n",
    "from datetime import datetime\n",
    "import time as time"
   ]
  },
  {
   "cell_type": "markdown",
   "metadata": {},
   "source": [
    "#### Checking whether the GPU is active"
   ]
  },
  {
   "cell_type": "code",
   "execution_count": 3,
   "metadata": {},
   "outputs": [
    {
     "data": {
      "text/plain": [
       "True"
      ]
     },
     "execution_count": 3,
     "metadata": {},
     "output_type": "execute_result"
    }
   ],
   "source": [
    "torch.backends.cudnn.enabled"
   ]
  },
  {
   "cell_type": "code",
   "execution_count": 4,
   "metadata": {},
   "outputs": [
    {
     "data": {
      "text/plain": [
       "True"
      ]
     },
     "execution_count": 4,
     "metadata": {},
     "output_type": "execute_result"
    }
   ],
   "source": [
    "torch.cuda.is_available()"
   ]
  },
  {
   "cell_type": "markdown",
   "metadata": {},
   "source": [
    "### Hyper Parameters"
   ]
  },
  {
   "cell_type": "code",
   "execution_count": 5,
   "metadata": {},
   "outputs": [],
   "source": [
    "EPOCH= 5\n",
    "\n",
    "BchSz=32 # BATCHSIZE\n",
    "\n",
    "# Learning Rate\n",
    "learning_rate = 0.0001\n",
    "\n",
    "\n",
    "# Dropout rate\n",
    "Dropout=0.1"
   ]
  },
  {
   "cell_type": "code",
   "execution_count": 6,
   "metadata": {},
   "outputs": [],
   "source": [
    "# Loss calculator\n",
    "criterion = nn.CrossEntropyLoss()   # cross entropy loss"
   ]
  },
  {
   "cell_type": "markdown",
   "metadata": {},
   "source": [
    "Random seeds for coda and shuffling"
   ]
  },
  {
   "cell_type": "code",
   "execution_count": 7,
   "metadata": {},
   "outputs": [
    {
     "data": {
      "text/plain": [
       "<torch._C.Generator at 0x7f3efc55a6b0>"
      ]
     },
     "execution_count": 7,
     "metadata": {},
     "output_type": "execute_result"
    }
   ],
   "source": [
    "torch.cuda.manual_seed(42)\n",
    "torch.manual_seed(42)"
   ]
  },
  {
   "cell_type": "markdown",
   "metadata": {},
   "source": [
    "Dataset paths"
   ]
  },
  {
   "cell_type": "code",
   "execution_count": 8,
   "metadata": {},
   "outputs": [],
   "source": [
    "PATH = Path(\"/home/saman/Saman/data/Image_Data01/\")\n",
    "train_path = PATH / 'train' / 'Total'\n",
    "valid_path = PATH / 'valid' / 'Total'\n",
    "test_path = PATH / 'test' / 'Total'"
   ]
  },
  {
   "cell_type": "markdown",
   "metadata": {},
   "source": [
    "### Model parameters"
   ]
  },
  {
   "cell_type": "code",
   "execution_count": 9,
   "metadata": {},
   "outputs": [],
   "source": [
    "EPOCH= 5\n",
    "\n",
    "BchSz=32 # BATCHSIZE\n",
    "\n",
    "# Learning Rate\n",
    "learning_rate = 0.0001\n",
    "\n",
    "\n",
    "# Dropout rate\n",
    "Dropout=0.5"
   ]
  },
  {
   "cell_type": "markdown",
   "metadata": {},
   "source": [
    "### Loading data set (including augmentations)"
   ]
  },
  {
   "cell_type": "markdown",
   "metadata": {},
   "source": [
    "#### Train the model with vertically and horizontally flipping"
   ]
  },
  {
   "cell_type": "code",
   "execution_count": 10,
   "metadata": {},
   "outputs": [],
   "source": [
    "# Mode of transformation\n",
    "transformation = transforms.Compose([\n",
    "    transforms.RandomHorizontalFlip(),\n",
    "    transforms.RandomHorizontalFlip(),\n",
    "    transforms.ToTensor(),\n",
    "]) "
   ]
  },
  {
   "cell_type": "markdown",
   "metadata": {},
   "source": [
    "### Reading data after transformation"
   ]
  },
  {
   "cell_type": "code",
   "execution_count": 11,
   "metadata": {},
   "outputs": [],
   "source": [
    "# Reading data after transformation\n",
    "train_data = torchvision.datasets.ImageFolder(train_path,transform=transformation)\n",
    "train_loader =torch.utils.data.DataLoader(train_data, batch_size=BchSz, shuffle=True,\n",
    "                                          num_workers=8)\n",
    "\n",
    "valid_data = torchvision.datasets.ImageFolder(valid_path,transform=transformation)\n",
    "valid_loader =torch.utils.data.DataLoader(valid_data, batch_size=BchSz, shuffle=True,\n",
    "                                          num_workers=8)"
   ]
  },
  {
   "cell_type": "code",
   "execution_count": 12,
   "metadata": {},
   "outputs": [],
   "source": [
    "test_data = torchvision.datasets.ImageFolder(test_path, transform=torchvision.transforms.ToTensor())\n",
    "test_loader = torch.utils.data.DataLoader(test_data , batch_size=BchSz)"
   ]
  },
  {
   "cell_type": "markdown",
   "metadata": {},
   "source": [
    "### Checking dataset"
   ]
  },
  {
   "cell_type": "code",
   "execution_count": 13,
   "metadata": {},
   "outputs": [
    {
     "data": {
      "text/plain": [
       "(12000, 4000, 4000)"
      ]
     },
     "execution_count": 13,
     "metadata": {},
     "output_type": "execute_result"
    }
   ],
   "source": [
    "len(train_data), len(valid_data), len(test_data)"
   ]
  },
  {
   "cell_type": "code",
   "execution_count": 14,
   "metadata": {},
   "outputs": [
    {
     "data": {
      "text/plain": [
       "{'Canola': 0, 'Radish': 1}"
      ]
     },
     "execution_count": 14,
     "metadata": {},
     "output_type": "execute_result"
    }
   ],
   "source": [
    "train_data.class_to_idx"
   ]
  },
  {
   "cell_type": "markdown",
   "metadata": {},
   "source": [
    "A function to make a title according to classes"
   ]
  },
  {
   "cell_type": "code",
   "execution_count": 15,
   "metadata": {},
   "outputs": [],
   "source": [
    "def IdxtoClass(idx):\n",
    "    if idx==0:\n",
    "        Class='Canola'\n",
    "    if idx==1:\n",
    "        Class='Radish'\n",
    "    return Class"
   ]
  },
  {
   "cell_type": "markdown",
   "metadata": {},
   "source": [
    "### Visualizing data"
   ]
  },
  {
   "cell_type": "code",
   "execution_count": 16,
   "metadata": {},
   "outputs": [
    {
     "data": {
      "image/png": "[encoded data removed]",
      "text/plain": [
       "<Figure size 432x288 with 4 Axes>"
      ]
     },
     "metadata": {},
     "output_type": "display_data"
    }
   ],
   "source": [
    "for i in range(2):\n",
    "    img = plt.imread(train_data.imgs[i][0])\n",
    "    plt.subplots_adjust(wspace=1, hspace=0.4)\n",
    "    plt.subplot(2,2,i+1)   \n",
    "    plt.imshow(img, aspect='auto' , cmap='viridis');\n",
    "    plt.title('%s' % IdxtoClass(train_data.imgs[i][1])) #The second index if is 1 return the label\n",
    "   \n",
    "    img = plt.imread(train_data.imgs[-(i+1)][0])\n",
    "    plt.subplot(2,2,i+3)\n",
    "    plt.imshow(img, aspect='auto' , cmap='viridis');\n",
    "    plt.title('%s' % IdxtoClass(train_data.imgs[-(i+1)][1])) #The second index if is 1 return the label\n",
    "\n",
    "plt.show()"
   ]
  },
  {
   "cell_type": "markdown",
   "metadata": {},
   "source": [
    "Data size"
   ]
  },
  {
   "cell_type": "code",
   "execution_count": 17,
   "metadata": {},
   "outputs": [
    {
     "data": {
      "text/plain": [
       "(456, 456, 3)"
      ]
     },
     "execution_count": 17,
     "metadata": {},
     "output_type": "execute_result"
    }
   ],
   "source": [
    "img = plt.imread(train_data.imgs[0][0]) # The second index if is 0 return the file name\n",
    "IMSHAPE= img.shape\n",
    "IMSHAPE"
   ]
  },
  {
   "cell_type": "code",
   "execution_count": 18,
   "metadata": {},
   "outputs": [
    {
     "data": {
      "text/plain": [
       "12000"
      ]
     },
     "execution_count": 18,
     "metadata": {},
     "output_type": "execute_result"
    }
   ],
   "source": [
    "len(train_data.imgs)"
   ]
  },
  {
   "cell_type": "markdown",
   "metadata": {},
   "source": [
    "### Training and Validating"
   ]
  },
  {
   "cell_type": "markdown",
   "metadata": {},
   "source": [
    "#### Training and validation function"
   ]
  },
  {
   "cell_type": "code",
   "execution_count": 19,
   "metadata": {},
   "outputs": [],
   "source": [
    "EPOCH\n",
    "def train_model(model, criterion, optimizer, lr_scheduler, EPOCH):\n",
    "        print(str(datetime.now()).split('.')[0], \"Starting training and validation...\\n\")\n",
    "        print(\"====================Data and Hyperparameter Overview====================\\n\")\n",
    "        print(\"Number of training examples: {} , Number of validation examples: {} \".format(len(train_data), len(valid_data)))\n",
    "        print(\"Learning rate: {:,.5f}\".format(learning_rate))\n",
    "        print(\"================================Results...==============================\\n\")\n",
    "\n",
    "        since = time.time()  #record the beginning time\n",
    "\n",
    "        best_model = model\n",
    "        best_acc = 0.0\n",
    "        acc_vect =[]   \n",
    "\n",
    "        for epoch in range(EPOCH):\n",
    "            for i, (images, labels) in enumerate(train_loader):   \n",
    "                images = Variable(images).cuda()\n",
    "                labels = Variable(labels).cuda()\n",
    "\n",
    "                # Forward pass\n",
    "                outputs = model(images)            # model output\n",
    "                loss = criterion(outputs, labels)  # cross entropy loss\n",
    "\n",
    "                # Trying binary cross entropy\n",
    "                #loss = criterion(torch.max(outputs.data, 1), labels)\n",
    "                #loss = torch.nn.functional.binary_cross_entropy(outputs, labels)\n",
    "\n",
    "                # Backward and optimize\n",
    "                optimizer.zero_grad()             # clear gradients for this training step\n",
    "                loss.backward()                   # backpropagation, compute gradients\n",
    "                optimizer.step()                  # apply gradients\n",
    "\n",
    "                if (i+1) % 75 == 0:               # Reporting the loss and progress every 50 step\n",
    "                    print ('Epoch [{}/{}], Step [{}/{}], Loss: {:.4f}' \n",
    "                               .format(epoch+1, EPOCH, i+1, len(train_loader), loss.item()))\n",
    "\n",
    "            model.eval()  # eval mode (batchnorm uses moving mean/variance instead of mini-batch mean/variance)\n",
    "\n",
    "            with torch.no_grad():\n",
    "                correct = 0\n",
    "                total = 0\n",
    "                for images, labels in valid_loader:\n",
    "                    \n",
    "                    images = Variable(images).cuda()\n",
    "                    labels = Variable(labels).cuda()\n",
    "                    \n",
    "                    outputs = model(images)\n",
    "                    _, predicted = torch.max(outputs.data, 1)\n",
    "\n",
    "                    loss = criterion(outputs, labels)\n",
    "                    loss += loss.item()\n",
    "\n",
    "                    total += labels.size(0)\n",
    "                    correct += (predicted == labels).sum().item()\n",
    "\n",
    "                epoch_loss= loss / total\n",
    "                epoch_acc = 100 * correct / total\n",
    "                acc_vect.append(epoch_acc)\n",
    "\n",
    "                if epoch_acc > best_acc:\n",
    "                    best_acc = epoch_acc\n",
    "                    best_model = copy.deepcopy(model)\n",
    "\n",
    "                print('Validation accuracy and loss of the model on the test {} images: {} %, {:.5f}'\n",
    "                      .format(len(valid_data), 100 * correct / total, loss))\n",
    "\n",
    "            correct = 0\n",
    "            total = 0\n",
    "            for images, labels in train_loader:\n",
    "                images = Variable(images).cuda()\n",
    "                labels = Variable(labels).cuda()\n",
    "                outputs = model(images)\n",
    "                _, predicted = torch.max(outputs.data, 1)\n",
    "\n",
    "                loss = criterion(outputs, labels)\n",
    "                loss += loss.item()\n",
    "\n",
    "                total += labels.size(0)\n",
    "                correct += (predicted == labels).sum().item()\n",
    "\n",
    "            epoch_loss= loss / total\n",
    "            epoch_acc = 100 * correct / total\n",
    "\n",
    "            print('Train  accuracy and loss of the model on the test {} images: {} %, {:.5f}'\n",
    "                  .format(len(train_data), epoch_acc, loss))\n",
    "            print('-' * 10)\n",
    "\n",
    "        time_elapsed = time.time() - since\n",
    "        print('Training complete in {:.0f}m {:.0f}s'.format(\n",
    "            time_elapsed // 60, time_elapsed % 60))\n",
    "        print('Best validation Acc: {:4f}'.format(best_acc)) \n",
    "        \n",
    "        mean_acc = np.mean(acc_vect)\n",
    "        print('Average accuracy on the validation {} images: {}'\n",
    "              .format(len(train_data),mean_acc))\n",
    "        print('-' * 10)\n",
    "        return best_model, mean_acc"
   ]
  },
  {
   "cell_type": "markdown",
   "metadata": {},
   "source": [
    "### Testing function"
   ]
  },
  {
   "cell_type": "code",
   "execution_count": 20,
   "metadata": {},
   "outputs": [],
   "source": [
    "def test_model(model, test_loader):\n",
    "    print(\"Starting testing...\\n\")\n",
    "    model.eval()  # eval mode (batchnorm uses moving mean/variance instead of mini-batch mean/variance)\n",
    "\n",
    "    with torch.no_grad():\n",
    "        correct = 0\n",
    "        total = 0\n",
    "        test_loss_vect=[]\n",
    "        test_acc_vect=[]\n",
    "        \n",
    "        since = time.time()  #record the beginning time\n",
    "        \n",
    "        for i in range(10):\n",
    "            \n",
    "            Indx = torch.randperm(len(test_data))\n",
    "            Cut=int(len(Indx)/10) # Here 10% showing the proportion of data is chosen for pooling\n",
    "            indices=Indx[:Cut]            \n",
    "            Sampler = Data.SubsetRandomSampler(indices)\n",
    "            pooled_data =  torch.utils.data.DataLoader(test_data , batch_size=BchSz,sampler=Sampler)\n",
    "\n",
    "            for images, labels in pooled_data:\n",
    "                images = Variable(images).cuda()\n",
    "                labels = Variable(labels).cuda()\n",
    "                \n",
    "                outputs = model(images)\n",
    "                _, predicted = torch.max(outputs.data, 1)\n",
    "                loss = criterion(outputs, labels)\n",
    "                total += labels.size(0)\n",
    "                correct += (predicted == labels).sum().item()\n",
    "                \n",
    "            test_loss= loss / total\n",
    "            test_accuracy= 100 * correct / total\n",
    "            \n",
    "            test_loss_vect.append(test_loss)\n",
    "            test_acc_vect.append(test_accuracy)\n",
    "\n",
    "            \n",
    "            print('Test accuracy and loss for the {}th pool: {:.2f} %, {:.5f}'\n",
    "                  .format(i+1, test_accuracy, test_loss))\n",
    "            \n",
    "        \n",
    "        mean_test_loss = torch.mean(torch.tensor(test_loss_vect))\n",
    "        mean_test_acc = torch.mean(torch.tensor(test_acc_vect))\n",
    "        std_test_acc = torch.std(torch.tensor(test_acc_vect))\n",
    "        \n",
    "        print('-' * 10)\n",
    "        print('Average of ten test accuracies on test data: {:.2f} %, loss: {:.5f}, Standard deviion of accuracy: {:.4f}'\n",
    "              .format(mean_test_acc, mean_test_loss, std_test_acc))\n",
    "        \n",
    "        print('-' * 10)\n",
    "        time_elapsed = time.time() - since\n",
    "        print('Testing complete in {:.1f}m {:.4f}s'.format(time_elapsed // 60, time_elapsed % 60))\n",
    "        \n",
    "        print('-' * 10)\n",
    "        \n",
    "        return mean_test_acc, mean_test_loss, std_test_acc"
   ]
  },
  {
   "cell_type": "markdown",
   "metadata": {},
   "source": [
    "### Residual network model "
   ]
  },
  {
   "cell_type": "markdown",
   "metadata": {},
   "source": [
    "#### Pretrained Resnet 18 model"
   ]
  },
  {
   "cell_type": "code",
   "execution_count": 21,
   "metadata": {},
   "outputs": [
    {
     "name": "stdout",
     "output_type": "stream",
     "text": [
      "ResNet(\n",
      "  (conv1): Conv2d(3, 64, kernel_size=(7, 7), stride=(2, 2), padding=(3, 3), bias=False)\n",
      "  (bn1): BatchNorm2d(64, eps=1e-05, momentum=0.1, affine=True, track_running_stats=True)\n",
      "  (relu): ReLU(inplace)\n",
      "  (maxpool): MaxPool2d(kernel_size=3, stride=2, padding=1, dilation=1, ceil_mode=False)\n",
      "  (layer1): Sequential(\n",
      "    (0): BasicBlock(\n",
      "      (conv1): Conv2d(64, 64, kernel_size=(3, 3), stride=(1, 1), padding=(1, 1), bias=False)\n",
      "      (bn1): BatchNorm2d(64, eps=1e-05, momentum=0.1, affine=True, track_running_stats=True)\n",
      "      (relu): ReLU(inplace)\n",
      "      (conv2): Conv2d(64, 64, kernel_size=(3, 3), stride=(1, 1), padding=(1, 1), bias=False)\n",
      "      (bn2): BatchNorm2d(64, eps=1e-05, momentum=0.1, affine=True, track_running_stats=True)\n",
      "    )\n",
      "    (1): BasicBlock(\n",
      "      (conv1): Conv2d(64, 64, kernel_size=(3, 3), stride=(1, 1), padding=(1, 1), bias=False)\n",
      "      (bn1): BatchNorm2d(64, eps=1e-05, momentum=0.1, affine=True, track_running_stats=True)\n",
      "      (relu): ReLU(inplace)\n",
      "      (conv2): Conv2d(64, 64, kernel_size=(3, 3), stride=(1, 1), padding=(1, 1), bias=False)\n",
      "      (bn2): BatchNorm2d(64, eps=1e-05, momentum=0.1, affine=True, track_running_stats=True)\n",
      "    )\n",
      "  )\n",
      "  (layer2): Sequential(\n",
      "    (0): BasicBlock(\n",
      "      (conv1): Conv2d(64, 128, kernel_size=(3, 3), stride=(2, 2), padding=(1, 1), bias=False)\n",
      "      (bn1): BatchNorm2d(128, eps=1e-05, momentum=0.1, affine=True, track_running_stats=True)\n",
      "      (relu): ReLU(inplace)\n",
      "      (conv2): Conv2d(128, 128, kernel_size=(3, 3), stride=(1, 1), padding=(1, 1), bias=False)\n",
      "      (bn2): BatchNorm2d(128, eps=1e-05, momentum=0.1, affine=True, track_running_stats=True)\n",
      "      (downsample): Sequential(\n",
      "        (0): Conv2d(64, 128, kernel_size=(1, 1), stride=(2, 2), bias=False)\n",
      "        (1): BatchNorm2d(128, eps=1e-05, momentum=0.1, affine=True, track_running_stats=True)\n",
      "      )\n",
      "    )\n",
      "    (1): BasicBlock(\n",
      "      (conv1): Conv2d(128, 128, kernel_size=(3, 3), stride=(1, 1), padding=(1, 1), bias=False)\n",
      "      (bn1): BatchNorm2d(128, eps=1e-05, momentum=0.1, affine=True, track_running_stats=True)\n",
      "      (relu): ReLU(inplace)\n",
      "      (conv2): Conv2d(128, 128, kernel_size=(3, 3), stride=(1, 1), padding=(1, 1), bias=False)\n",
      "      (bn2): BatchNorm2d(128, eps=1e-05, momentum=0.1, affine=True, track_running_stats=True)\n",
      "    )\n",
      "  )\n",
      "  (layer3): Sequential(\n",
      "    (0): BasicBlock(\n",
      "      (conv1): Conv2d(128, 256, kernel_size=(3, 3), stride=(2, 2), padding=(1, 1), bias=False)\n",
      "      (bn1): BatchNorm2d(256, eps=1e-05, momentum=0.1, affine=True, track_running_stats=True)\n",
      "      (relu): ReLU(inplace)\n",
      "      (conv2): Conv2d(256, 256, kernel_size=(3, 3), stride=(1, 1), padding=(1, 1), bias=False)\n",
      "      (bn2): BatchNorm2d(256, eps=1e-05, momentum=0.1, affine=True, track_running_stats=True)\n",
      "      (downsample): Sequential(\n",
      "        (0): Conv2d(128, 256, kernel_size=(1, 1), stride=(2, 2), bias=False)\n",
      "        (1): BatchNorm2d(256, eps=1e-05, momentum=0.1, affine=True, track_running_stats=True)\n",
      "      )\n",
      "    )\n",
      "    (1): BasicBlock(\n",
      "      (conv1): Conv2d(256, 256, kernel_size=(3, 3), stride=(1, 1), padding=(1, 1), bias=False)\n",
      "      (bn1): BatchNorm2d(256, eps=1e-05, momentum=0.1, affine=True, track_running_stats=True)\n",
      "      (relu): ReLU(inplace)\n",
      "      (conv2): Conv2d(256, 256, kernel_size=(3, 3), stride=(1, 1), padding=(1, 1), bias=False)\n",
      "      (bn2): BatchNorm2d(256, eps=1e-05, momentum=0.1, affine=True, track_running_stats=True)\n",
      "    )\n",
      "  )\n",
      "  (layer4): Sequential(\n",
      "    (0): BasicBlock(\n",
      "      (conv1): Conv2d(256, 512, kernel_size=(3, 3), stride=(2, 2), padding=(1, 1), bias=False)\n",
      "      (bn1): BatchNorm2d(512, eps=1e-05, momentum=0.1, affine=True, track_running_stats=True)\n",
      "      (relu): ReLU(inplace)\n",
      "      (conv2): Conv2d(512, 512, kernel_size=(3, 3), stride=(1, 1), padding=(1, 1), bias=False)\n",
      "      (bn2): BatchNorm2d(512, eps=1e-05, momentum=0.1, affine=True, track_running_stats=True)\n",
      "      (downsample): Sequential(\n",
      "        (0): Conv2d(256, 512, kernel_size=(1, 1), stride=(2, 2), bias=False)\n",
      "        (1): BatchNorm2d(512, eps=1e-05, momentum=0.1, affine=True, track_running_stats=True)\n",
      "      )\n",
      "    )\n",
      "    (1): BasicBlock(\n",
      "      (conv1): Conv2d(512, 512, kernel_size=(3, 3), stride=(1, 1), padding=(1, 1), bias=False)\n",
      "      (bn1): BatchNorm2d(512, eps=1e-05, momentum=0.1, affine=True, track_running_stats=True)\n",
      "      (relu): ReLU(inplace)\n",
      "      (conv2): Conv2d(512, 512, kernel_size=(3, 3), stride=(1, 1), padding=(1, 1), bias=False)\n",
      "      (bn2): BatchNorm2d(512, eps=1e-05, momentum=0.1, affine=True, track_running_stats=True)\n",
      "    )\n",
      "  )\n",
      "  (avgpool): AvgPool2d(kernel_size=7, stride=1, padding=0)\n",
      "  (fc): Linear(in_features=512, out_features=1000, bias=True)\n",
      ")\n"
     ]
    }
   ],
   "source": [
    "model2 = models.resnet18(pretrained=True) #2 is number of classes\n",
    "# model2= nn.Sequential(model11, nn.ReLU(),nn.Linear(1000, 2))\n",
    "print(model2)"
   ]
  },
  {
   "cell_type": "code",
   "execution_count": 22,
   "metadata": {},
   "outputs": [
    {
     "name": "stdout",
     "output_type": "stream",
     "text": [
      "ResNet(\n",
      "  (conv1): Conv2d(3, 64, kernel_size=(7, 7), stride=(2, 2), padding=(3, 3), bias=False)\n",
      "  (bn1): BatchNorm2d(64, eps=1e-05, momentum=0.1, affine=True, track_running_stats=True)\n",
      "  (relu): ReLU(inplace)\n",
      "  (maxpool): MaxPool2d(kernel_size=3, stride=2, padding=1, dilation=1, ceil_mode=False)\n",
      "  (layer1): Sequential(\n",
      "    (0): BasicBlock(\n",
      "      (conv1): Conv2d(64, 64, kernel_size=(3, 3), stride=(1, 1), padding=(1, 1), bias=False)\n",
      "      (bn1): BatchNorm2d(64, eps=1e-05, momentum=0.1, affine=True, track_running_stats=True)\n",
      "      (relu): ReLU(inplace)\n",
      "      (conv2): Conv2d(64, 64, kernel_size=(3, 3), stride=(1, 1), padding=(1, 1), bias=False)\n",
      "      (bn2): BatchNorm2d(64, eps=1e-05, momentum=0.1, affine=True, track_running_stats=True)\n",
      "    )\n",
      "    (1): BasicBlock(\n",
      "      (conv1): Conv2d(64, 64, kernel_size=(3, 3), stride=(1, 1), padding=(1, 1), bias=False)\n",
      "      (bn1): BatchNorm2d(64, eps=1e-05, momentum=0.1, affine=True, track_running_stats=True)\n",
      "      (relu): ReLU(inplace)\n",
      "      (conv2): Conv2d(64, 64, kernel_size=(3, 3), stride=(1, 1), padding=(1, 1), bias=False)\n",
      "      (bn2): BatchNorm2d(64, eps=1e-05, momentum=0.1, affine=True, track_running_stats=True)\n",
      "    )\n",
      "  )\n",
      "  (layer2): Sequential(\n",
      "    (0): BasicBlock(\n",
      "      (conv1): Conv2d(64, 128, kernel_size=(3, 3), stride=(2, 2), padding=(1, 1), bias=False)\n",
      "      (bn1): BatchNorm2d(128, eps=1e-05, momentum=0.1, affine=True, track_running_stats=True)\n",
      "      (relu): ReLU(inplace)\n",
      "      (conv2): Conv2d(128, 128, kernel_size=(3, 3), stride=(1, 1), padding=(1, 1), bias=False)\n",
      "      (bn2): BatchNorm2d(128, eps=1e-05, momentum=0.1, affine=True, track_running_stats=True)\n",
      "      (downsample): Sequential(\n",
      "        (0): Conv2d(64, 128, kernel_size=(1, 1), stride=(2, 2), bias=False)\n",
      "        (1): BatchNorm2d(128, eps=1e-05, momentum=0.1, affine=True, track_running_stats=True)\n",
      "      )\n",
      "    )\n",
      "    (1): BasicBlock(\n",
      "      (conv1): Conv2d(128, 128, kernel_size=(3, 3), stride=(1, 1), padding=(1, 1), bias=False)\n",
      "      (bn1): BatchNorm2d(128, eps=1e-05, momentum=0.1, affine=True, track_running_stats=True)\n",
      "      (relu): ReLU(inplace)\n",
      "      (conv2): Conv2d(128, 128, kernel_size=(3, 3), stride=(1, 1), padding=(1, 1), bias=False)\n",
      "      (bn2): BatchNorm2d(128, eps=1e-05, momentum=0.1, affine=True, track_running_stats=True)\n",
      "    )\n",
      "  )\n",
      "  (layer3): Sequential(\n",
      "    (0): BasicBlock(\n",
      "      (conv1): Conv2d(128, 256, kernel_size=(3, 3), stride=(2, 2), padding=(1, 1), bias=False)\n",
      "      (bn1): BatchNorm2d(256, eps=1e-05, momentum=0.1, affine=True, track_running_stats=True)\n",
      "      (relu): ReLU(inplace)\n",
      "      (conv2): Conv2d(256, 256, kernel_size=(3, 3), stride=(1, 1), padding=(1, 1), bias=False)\n",
      "      (bn2): BatchNorm2d(256, eps=1e-05, momentum=0.1, affine=True, track_running_stats=True)\n",
      "      (downsample): Sequential(\n",
      "        (0): Conv2d(128, 256, kernel_size=(1, 1), stride=(2, 2), bias=False)\n",
      "        (1): BatchNorm2d(256, eps=1e-05, momentum=0.1, affine=True, track_running_stats=True)\n",
      "      )\n",
      "    )\n",
      "    (1): BasicBlock(\n",
      "      (conv1): Conv2d(256, 256, kernel_size=(3, 3), stride=(1, 1), padding=(1, 1), bias=False)\n",
      "      (bn1): BatchNorm2d(256, eps=1e-05, momentum=0.1, affine=True, track_running_stats=True)\n",
      "      (relu): ReLU(inplace)\n",
      "      (conv2): Conv2d(256, 256, kernel_size=(3, 3), stride=(1, 1), padding=(1, 1), bias=False)\n",
      "      (bn2): BatchNorm2d(256, eps=1e-05, momentum=0.1, affine=True, track_running_stats=True)\n",
      "    )\n",
      "  )\n",
      "  (layer4): Sequential(\n",
      "    (0): BasicBlock(\n",
      "      (conv1): Conv2d(256, 512, kernel_size=(3, 3), stride=(2, 2), padding=(1, 1), bias=False)\n",
      "      (bn1): BatchNorm2d(512, eps=1e-05, momentum=0.1, affine=True, track_running_stats=True)\n",
      "      (relu): ReLU(inplace)\n",
      "      (conv2): Conv2d(512, 512, kernel_size=(3, 3), stride=(1, 1), padding=(1, 1), bias=False)\n",
      "      (bn2): BatchNorm2d(512, eps=1e-05, momentum=0.1, affine=True, track_running_stats=True)\n",
      "      (downsample): Sequential(\n",
      "        (0): Conv2d(256, 512, kernel_size=(1, 1), stride=(2, 2), bias=False)\n",
      "        (1): BatchNorm2d(512, eps=1e-05, momentum=0.1, affine=True, track_running_stats=True)\n",
      "      )\n",
      "    )\n",
      "    (1): BasicBlock(\n",
      "      (conv1): Conv2d(512, 512, kernel_size=(3, 3), stride=(1, 1), padding=(1, 1), bias=False)\n",
      "      (bn1): BatchNorm2d(512, eps=1e-05, momentum=0.1, affine=True, track_running_stats=True)\n",
      "      (relu): ReLU(inplace)\n",
      "      (conv2): Conv2d(512, 512, kernel_size=(3, 3), stride=(1, 1), padding=(1, 1), bias=False)\n",
      "      (bn2): BatchNorm2d(512, eps=1e-05, momentum=0.1, affine=True, track_running_stats=True)\n",
      "    )\n",
      "  )\n",
      "  (avgpool): AvgPool2d(kernel_size=7, stride=1, padding=0)\n",
      "  (fc): Linear(in_features=41472, out_features=2, bias=True)\n",
      ")\n"
     ]
    }
   ],
   "source": [
    "model = models.resnet18(pretrained=False) #2 is number of classes\n",
    "\n",
    "#model1 = nn.Sequential(*list(model.children())[:-2])\n",
    "#avgpool = nn.Sequential(nn.AvgPool2d(kernel_size=7, stride=1, padding=0))\n",
    "#model1 .avgpool= avgpool\n",
    "\n",
    "#model1 = nn.Sequential(*list(model.children())[:-1])\n",
    "#fc = nn.Sequential(*[nn.Linear(in_features=147456, out_features=9),nn.ReLU(),nn.Linear(9, 2)])\n",
    "fc = nn.Linear(in_features=41472, out_features=2)\n",
    "model.fc= fc\n",
    "\n",
    "print(model)\n",
    "model1=model"
   ]
  },
  {
   "cell_type": "code",
   "execution_count": 23,
   "metadata": {},
   "outputs": [],
   "source": [
    "def get_num_params(model):\n",
    "    TotalParam=0\n",
    "    for param in list(model.parameters()):\n",
    "        nn=1\n",
    "        for size in list(param.size()):\n",
    "            nn = nn*size\n",
    "        TotalParam += nn\n",
    "    return TotalParam"
   ]
  },
  {
   "cell_type": "code",
   "execution_count": 24,
   "metadata": {},
   "outputs": [
    {
     "data": {
      "text/plain": [
       "11259458"
      ]
     },
     "execution_count": 24,
     "metadata": {},
     "output_type": "execute_result"
    }
   ],
   "source": [
    "get_num_params(model1)"
   ]
  },
  {
   "cell_type": "markdown",
   "metadata": {},
   "source": [
    "#### Pretrained Resnet 18 model"
   ]
  },
  {
   "cell_type": "code",
   "execution_count": 23,
   "metadata": {},
   "outputs": [
    {
     "name": "stdout",
     "output_type": "stream",
     "text": [
      "2019-05-07 10:25:09 Starting training and validation...\n",
      "\n",
      "====================Data and Hyperparameter Overview====================\n",
      "\n",
      "Number of training examples: 12000 , Number of validation examples: 4000 \n",
      "Learning rate: 0.00010\n",
      "================================Results...==============================\n",
      "\n",
      "Epoch [1/5], Step [75/375], Loss: 0.6898\n",
      "Epoch [1/5], Step [150/375], Loss: 0.3399\n",
      "Epoch [1/5], Step [225/375], Loss: 0.3723\n",
      "Epoch [1/5], Step [300/375], Loss: 0.4685\n",
      "Epoch [1/5], Step [375/375], Loss: 0.1990\n",
      "Validation accuracy and loss of the model on the test 4000 images: 64.925 %, 1.91177\n",
      "Train  accuracy and loss of the model on the test 12000 images: 80.75 %, 0.66494\n",
      "----------\n",
      "Epoch [2/5], Step [75/375], Loss: 0.6936\n",
      "Epoch [2/5], Step [150/375], Loss: 0.7122\n",
      "Epoch [2/5], Step [225/375], Loss: 0.6825\n",
      "Epoch [2/5], Step [300/375], Loss: 0.6378\n",
      "Epoch [2/5], Step [375/375], Loss: 0.6636\n",
      "Validation accuracy and loss of the model on the test 4000 images: 56.9 %, 1.26001\n",
      "Train  accuracy and loss of the model on the test 12000 images: 62.38333333333333 %, 1.31180\n",
      "----------\n",
      "Epoch [3/5], Step [75/375], Loss: 0.5901\n",
      "Epoch [3/5], Step [150/375], Loss: 0.6638\n",
      "Epoch [3/5], Step [225/375], Loss: 0.5551\n",
      "Epoch [3/5], Step [300/375], Loss: 0.6412\n",
      "Epoch [3/5], Step [375/375], Loss: 0.6368\n",
      "Validation accuracy and loss of the model on the test 4000 images: 55.675 %, 1.45650\n",
      "Train  accuracy and loss of the model on the test 12000 images: 61.325 %, 1.30181\n",
      "----------\n",
      "Epoch [4/5], Step [75/375], Loss: 0.5936\n",
      "Epoch [4/5], Step [150/375], Loss: 0.6032\n",
      "Epoch [4/5], Step [225/375], Loss: 0.5458\n",
      "Epoch [4/5], Step [300/375], Loss: 0.4989\n",
      "Epoch [4/5], Step [375/375], Loss: 0.4694\n",
      "Validation accuracy and loss of the model on the test 4000 images: 67.925 %, 1.25782\n",
      "Train  accuracy and loss of the model on the test 12000 images: 76.40833333333333 %, 0.91794\n",
      "----------\n",
      "Epoch [5/5], Step [75/375], Loss: 0.6851\n",
      "Epoch [5/5], Step [150/375], Loss: 0.5560\n",
      "Epoch [5/5], Step [225/375], Loss: 0.6163\n",
      "Epoch [5/5], Step [300/375], Loss: 0.4075\n",
      "Epoch [5/5], Step [375/375], Loss: 0.4550\n",
      "Validation accuracy and loss of the model on the test 4000 images: 67.175 %, 1.27293\n",
      "Train  accuracy and loss of the model on the test 12000 images: 79.025 %, 1.33858\n",
      "----------\n",
      "Training complete in 11m 13s\n",
      "Best validation Acc: 67.925000\n",
      "Average accuracy on the validation 12000 images: 62.52\n",
      "----------\n",
      "Starting testing...\n",
      "\n",
      "Test accuracy and loss for the 1th pool: 71.25 %, 0.00184\n",
      "Test accuracy and loss for the 2th pool: 71.75 %, 0.00074\n",
      "Test accuracy and loss for the 3th pool: 71.33 %, 0.00044\n",
      "Test accuracy and loss for the 4th pool: 71.88 %, 0.00043\n",
      "Test accuracy and loss for the 5th pool: 71.40 %, 0.00040\n",
      "Test accuracy and loss for the 6th pool: 71.29 %, 0.00024\n",
      "Test accuracy and loss for the 7th pool: 71.32 %, 0.00017\n",
      "Test accuracy and loss for the 8th pool: 71.66 %, 0.00018\n",
      "Test accuracy and loss for the 9th pool: 71.50 %, 0.00022\n",
      "Test accuracy and loss for the 10th pool: 71.55 %, 0.00008\n",
      "----------\n",
      "Average of ten test accuracies on test data: 71.49 %, loss: 0.00047, Standard deviion of accuracy: 0.2013\n",
      "----------\n",
      "Testing complete in 0.0m 19.2173s\n",
      "----------\n"
     ]
    },
    {
     "data": {
      "text/plain": [
       "(71.49276785714285, 0.00047201553, 0.2012670698983155)"
      ]
     },
     "execution_count": 23,
     "metadata": {},
     "output_type": "execute_result"
    }
   ],
   "source": [
    "model = model1 #2 is number of classes\n",
    "model = model.cuda()\n",
    "\n",
    "optimizer = torch.optim.Adam(model.parameters(), lr=learning_rate)\n",
    "optimizer.scheduler=lr_scheduler.ReduceLROnPlateau(optimizer, 'min')\n",
    "\n",
    "train_model(model, criterion, optimizer, lr_scheduler, EPOCH)\n",
    "test_model (model, test_loader)"
   ]
  },
  {
   "cell_type": "code",
   "execution_count": 24,
   "metadata": {},
   "outputs": [
    {
     "name": "stdout",
     "output_type": "stream",
     "text": [
      "2019-05-07 10:36:41 Starting training and validation...\n",
      "\n",
      "====================Data and Hyperparameter Overview====================\n",
      "\n",
      "Number of training examples: 12000 , Number of validation examples: 4000 \n",
      "Learning rate: 0.00010\n",
      "================================Results...==============================\n",
      "\n",
      "Epoch [1/5], Step [75/375], Loss: 0.5450\n",
      "Epoch [1/5], Step [150/375], Loss: 0.2768\n",
      "Epoch [1/5], Step [225/375], Loss: 0.4947\n",
      "Epoch [1/5], Step [300/375], Loss: 0.2842\n",
      "Epoch [1/5], Step [375/375], Loss: 0.2637\n",
      "Validation accuracy and loss of the model on the test 4000 images: 72.95 %, 0.67463\n",
      "Train  accuracy and loss of the model on the test 12000 images: 85.875 %, 0.55717\n",
      "----------\n",
      "Epoch [2/5], Step [75/375], Loss: 0.2534\n",
      "Epoch [2/5], Step [150/375], Loss: 0.2074\n",
      "Epoch [2/5], Step [225/375], Loss: 0.2562\n",
      "Epoch [2/5], Step [300/375], Loss: 0.2579\n",
      "Epoch [2/5], Step [375/375], Loss: 0.2062\n",
      "Validation accuracy and loss of the model on the test 4000 images: 71.05 %, 2.25083\n",
      "Train  accuracy and loss of the model on the test 12000 images: 93.55 %, 0.37639\n",
      "----------\n",
      "Epoch [3/5], Step [75/375], Loss: 0.0588\n",
      "Epoch [3/5], Step [150/375], Loss: 0.1776\n",
      "Epoch [3/5], Step [225/375], Loss: 0.0704\n",
      "Epoch [3/5], Step [300/375], Loss: 0.0506\n",
      "Epoch [3/5], Step [375/375], Loss: 0.0820\n",
      "Validation accuracy and loss of the model on the test 4000 images: 74.9 %, 3.04717\n",
      "Train  accuracy and loss of the model on the test 12000 images: 96.475 %, 0.16484\n",
      "----------\n",
      "Epoch [4/5], Step [75/375], Loss: 0.1929\n",
      "Epoch [4/5], Step [150/375], Loss: 0.1108\n",
      "Epoch [4/5], Step [225/375], Loss: 0.0750\n",
      "Epoch [4/5], Step [300/375], Loss: 0.1024\n",
      "Epoch [4/5], Step [375/375], Loss: 0.0859\n",
      "Validation accuracy and loss of the model on the test 4000 images: 73.95 %, 3.77811\n",
      "Train  accuracy and loss of the model on the test 12000 images: 97.34166666666667 %, 0.06249\n",
      "----------\n",
      "Epoch [5/5], Step [75/375], Loss: 0.0575\n",
      "Epoch [5/5], Step [150/375], Loss: 0.0256\n",
      "Epoch [5/5], Step [225/375], Loss: 0.0260\n",
      "Epoch [5/5], Step [300/375], Loss: 0.0678\n",
      "Epoch [5/5], Step [375/375], Loss: 0.0888\n",
      "Validation accuracy and loss of the model on the test 4000 images: 76.275 %, 3.59734\n",
      "Train  accuracy and loss of the model on the test 12000 images: 98.0 %, 0.09698\n",
      "----------\n",
      "Training complete in 11m 12s\n",
      "Best validation Acc: 76.275000\n",
      "Average accuracy on the validation 12000 images: 73.825\n",
      "----------\n",
      "Starting testing...\n",
      "\n",
      "Test accuracy and loss for the 1th pool: 80.25 %, 0.00221\n",
      "Test accuracy and loss for the 2th pool: 77.75 %, 0.00177\n",
      "Test accuracy and loss for the 3th pool: 78.83 %, 0.00020\n",
      "Test accuracy and loss for the 4th pool: 79.12 %, 0.00160\n",
      "Test accuracy and loss for the 5th pool: 78.85 %, 0.00044\n",
      "Test accuracy and loss for the 6th pool: 79.08 %, 0.00054\n",
      "Test accuracy and loss for the 7th pool: 78.79 %, 0.00011\n",
      "Test accuracy and loss for the 8th pool: 79.06 %, 0.00036\n",
      "Test accuracy and loss for the 9th pool: 79.11 %, 0.00011\n",
      "Test accuracy and loss for the 10th pool: 78.83 %, 0.00039\n",
      "----------\n",
      "Average of ten test accuracies on test data: 78.97 %, loss: 0.00077, Standard deviion of accuracy: 0.5727\n",
      "----------\n",
      "Testing complete in 0.0m 18.8975s\n",
      "----------\n",
      "2019-05-07 10:48:12 Starting training and validation...\n",
      "\n",
      "====================Data and Hyperparameter Overview====================\n",
      "\n",
      "Number of training examples: 12000 , Number of validation examples: 4000 \n",
      "Learning rate: 0.00010\n",
      "================================Results...==============================\n",
      "\n",
      "Epoch [1/5], Step [75/375], Loss: 0.0620\n",
      "Epoch [1/5], Step [150/375], Loss: 0.0544\n",
      "Epoch [1/5], Step [225/375], Loss: 0.1111\n",
      "Epoch [1/5], Step [300/375], Loss: 0.0587\n",
      "Epoch [1/5], Step [375/375], Loss: 0.1002\n",
      "Validation accuracy and loss of the model on the test 4000 images: 74.65 %, 2.05935\n",
      "Train  accuracy and loss of the model on the test 12000 images: 97.19166666666666 %, 0.09151\n",
      "----------\n",
      "Epoch [2/5], Step [75/375], Loss: 0.0001\n",
      "Epoch [2/5], Step [150/375], Loss: 0.0977\n",
      "Epoch [2/5], Step [225/375], Loss: 0.0887\n",
      "Epoch [2/5], Step [300/375], Loss: 0.0023\n",
      "Epoch [2/5], Step [375/375], Loss: 0.0772\n",
      "Validation accuracy and loss of the model on the test 4000 images: 68.55 %, 3.08990\n",
      "Train  accuracy and loss of the model on the test 12000 images: 97.85 %, 0.10261\n",
      "----------\n",
      "Epoch [3/5], Step [75/375], Loss: 0.0556\n",
      "Epoch [3/5], Step [150/375], Loss: 0.0014\n",
      "Epoch [3/5], Step [225/375], Loss: 0.0148\n",
      "Epoch [3/5], Step [300/375], Loss: 0.0762\n",
      "Epoch [3/5], Step [375/375], Loss: 0.1023\n",
      "Validation accuracy and loss of the model on the test 4000 images: 75.1 %, 4.56609\n",
      "Train  accuracy and loss of the model on the test 12000 images: 96.56666666666666 %, 0.18833\n",
      "----------\n",
      "Epoch [4/5], Step [75/375], Loss: 0.0671\n",
      "Epoch [4/5], Step [150/375], Loss: 0.0855\n",
      "Epoch [4/5], Step [225/375], Loss: 0.0126\n",
      "Epoch [4/5], Step [300/375], Loss: 0.0251\n",
      "Epoch [4/5], Step [375/375], Loss: 0.0145\n",
      "Validation accuracy and loss of the model on the test 4000 images: 73.675 %, 4.23362\n",
      "Train  accuracy and loss of the model on the test 12000 images: 98.24166666666666 %, 0.13149\n",
      "----------\n",
      "Epoch [5/5], Step [75/375], Loss: 0.0259\n",
      "Epoch [5/5], Step [150/375], Loss: 0.0490\n",
      "Epoch [5/5], Step [225/375], Loss: 0.1167\n",
      "Epoch [5/5], Step [300/375], Loss: 0.0499\n",
      "Epoch [5/5], Step [375/375], Loss: 0.0078\n",
      "Validation accuracy and loss of the model on the test 4000 images: 73.35 %, 2.26871\n",
      "Train  accuracy and loss of the model on the test 12000 images: 98.13333333333334 %, 0.14130\n",
      "----------\n",
      "Training complete in 11m 13s\n",
      "Best validation Acc: 75.100000\n",
      "Average accuracy on the validation 12000 images: 73.06499999999998\n",
      "----------\n",
      "Starting testing...\n",
      "\n",
      "Test accuracy and loss for the 1th pool: 74.50 %, 0.00131\n",
      "Test accuracy and loss for the 2th pool: 72.88 %, 0.00059\n",
      "Test accuracy and loss for the 3th pool: 74.50 %, 0.00104\n",
      "Test accuracy and loss for the 4th pool: 74.38 %, 0.00027\n",
      "Test accuracy and loss for the 5th pool: 73.90 %, 0.00031\n",
      "Test accuracy and loss for the 6th pool: 73.75 %, 0.00061\n",
      "Test accuracy and loss for the 7th pool: 73.46 %, 0.00019\n",
      "Test accuracy and loss for the 8th pool: 73.41 %, 0.00004\n",
      "Test accuracy and loss for the 9th pool: 73.11 %, 0.00011\n",
      "Test accuracy and loss for the 10th pool: 73.20 %, 0.00048\n",
      "----------\n",
      "Average of ten test accuracies on test data: 73.71 %, loss: 0.00049, Standard deviion of accuracy: 0.5654\n",
      "----------\n",
      "Testing complete in 0.0m 18.9882s\n",
      "----------\n",
      "2019-05-07 10:59:44 Starting training and validation...\n",
      "\n",
      "====================Data and Hyperparameter Overview====================\n",
      "\n",
      "Number of training examples: 12000 , Number of validation examples: 4000 \n",
      "Learning rate: 0.00010\n",
      "================================Results...==============================\n",
      "\n",
      "Epoch [1/5], Step [75/375], Loss: 0.0244\n",
      "Epoch [1/5], Step [150/375], Loss: 0.0778\n",
      "Epoch [1/5], Step [225/375], Loss: 0.0030\n",
      "Epoch [1/5], Step [300/375], Loss: 0.0197\n",
      "Epoch [1/5], Step [375/375], Loss: 0.0203\n",
      "Validation accuracy and loss of the model on the test 4000 images: 73.1 %, 0.83157\n",
      "Train  accuracy and loss of the model on the test 12000 images: 97.775 %, 0.00002\n",
      "----------\n",
      "Epoch [2/5], Step [75/375], Loss: 0.0278\n",
      "Epoch [2/5], Step [150/375], Loss: 0.0168\n",
      "Epoch [2/5], Step [225/375], Loss: 0.0452\n",
      "Epoch [2/5], Step [300/375], Loss: 0.0000\n",
      "Epoch [2/5], Step [375/375], Loss: 0.0502\n",
      "Validation accuracy and loss of the model on the test 4000 images: 66.575 %, 1.21747\n",
      "Train  accuracy and loss of the model on the test 12000 images: 94.275 %, 0.20034\n",
      "----------\n",
      "Epoch [3/5], Step [75/375], Loss: 0.0196\n",
      "Epoch [3/5], Step [150/375], Loss: 0.0404\n",
      "Epoch [3/5], Step [225/375], Loss: 0.1212\n",
      "Epoch [3/5], Step [300/375], Loss: 0.0267\n",
      "Epoch [3/5], Step [375/375], Loss: 0.0893\n",
      "Validation accuracy and loss of the model on the test 4000 images: 71.975 %, 1.94634\n",
      "Train  accuracy and loss of the model on the test 12000 images: 98.1 %, 0.00691\n",
      "----------\n",
      "Epoch [4/5], Step [75/375], Loss: 0.0294\n",
      "Epoch [4/5], Step [150/375], Loss: 0.0002\n",
      "Epoch [4/5], Step [225/375], Loss: 0.0001\n",
      "Epoch [4/5], Step [300/375], Loss: 0.0412\n",
      "Epoch [4/5], Step [375/375], Loss: 0.0472\n",
      "Validation accuracy and loss of the model on the test 4000 images: 67.025 %, 6.61224\n",
      "Train  accuracy and loss of the model on the test 12000 images: 98.33333333333333 %, 0.15252\n",
      "----------\n",
      "Epoch [5/5], Step [75/375], Loss: 0.0398\n"
     ]
    },
    {
     "name": "stdout",
     "output_type": "stream",
     "text": [
      "Epoch [5/5], Step [150/375], Loss: 0.0740\n",
      "Epoch [5/5], Step [225/375], Loss: 0.1212\n",
      "Epoch [5/5], Step [300/375], Loss: 0.0316\n",
      "Epoch [5/5], Step [375/375], Loss: 0.0365\n",
      "Validation accuracy and loss of the model on the test 4000 images: 71.875 %, 2.96118\n",
      "Train  accuracy and loss of the model on the test 12000 images: 98.575 %, 0.02490\n",
      "----------\n",
      "Training complete in 11m 12s\n",
      "Best validation Acc: 73.100000\n",
      "Average accuracy on the validation 12000 images: 70.11\n",
      "----------\n",
      "Starting testing...\n",
      "\n",
      "Test accuracy and loss for the 1th pool: 71.25 %, 0.00719\n",
      "Test accuracy and loss for the 2th pool: 72.50 %, 0.00231\n",
      "Test accuracy and loss for the 3th pool: 73.00 %, 0.00330\n",
      "Test accuracy and loss for the 4th pool: 73.19 %, 0.00088\n",
      "Test accuracy and loss for the 5th pool: 73.15 %, 0.00052\n",
      "Test accuracy and loss for the 6th pool: 73.25 %, 0.00133\n",
      "Test accuracy and loss for the 7th pool: 73.54 %, 0.00026\n",
      "Test accuracy and loss for the 8th pool: 73.94 %, 0.00065\n",
      "Test accuracy and loss for the 9th pool: 73.67 %, 0.00043\n",
      "Test accuracy and loss for the 10th pool: 73.58 %, 0.00075\n",
      "----------\n",
      "Average of ten test accuracies on test data: 73.11 %, loss: 0.00176, Standard deviion of accuracy: 0.7255\n",
      "----------\n",
      "Testing complete in 0.0m 19.0798s\n",
      "----------\n",
      "2019-05-07 11:11:14 Starting training and validation...\n",
      "\n",
      "====================Data and Hyperparameter Overview====================\n",
      "\n",
      "Number of training examples: 12000 , Number of validation examples: 4000 \n",
      "Learning rate: 0.00010\n",
      "================================Results...==============================\n",
      "\n",
      "Epoch [1/5], Step [75/375], Loss: 0.0030\n",
      "Epoch [1/5], Step [150/375], Loss: 0.0000\n",
      "Epoch [1/5], Step [225/375], Loss: 0.0917\n",
      "Epoch [1/5], Step [300/375], Loss: 0.0677\n",
      "Epoch [1/5], Step [375/375], Loss: 0.0014\n",
      "Validation accuracy and loss of the model on the test 4000 images: 69.45 %, 1.93608\n",
      "Train  accuracy and loss of the model on the test 12000 images: 98.00833333333334 %, 0.15817\n",
      "----------\n",
      "Epoch [2/5], Step [75/375], Loss: 0.0718\n",
      "Epoch [2/5], Step [150/375], Loss: 0.0581\n",
      "Epoch [2/5], Step [225/375], Loss: 0.0117\n",
      "Epoch [2/5], Step [300/375], Loss: 0.0416\n",
      "Epoch [2/5], Step [375/375], Loss: 0.0809\n",
      "Validation accuracy and loss of the model on the test 4000 images: 70.2 %, 2.34506\n",
      "Train  accuracy and loss of the model on the test 12000 images: 96.76666666666667 %, 0.31774\n",
      "----------\n",
      "Epoch [3/5], Step [75/375], Loss: 0.0266\n",
      "Epoch [3/5], Step [150/375], Loss: 0.0005\n",
      "Epoch [3/5], Step [225/375], Loss: 0.0175\n",
      "Epoch [3/5], Step [300/375], Loss: 0.0055\n",
      "Epoch [3/5], Step [375/375], Loss: 0.0030\n",
      "Validation accuracy and loss of the model on the test 4000 images: 68.75 %, 3.68789\n",
      "Train  accuracy and loss of the model on the test 12000 images: 98.65 %, 0.03701\n",
      "----------\n",
      "Epoch [4/5], Step [75/375], Loss: 0.0049\n",
      "Epoch [4/5], Step [150/375], Loss: 0.0893\n",
      "Epoch [4/5], Step [225/375], Loss: 0.0269\n",
      "Epoch [4/5], Step [300/375], Loss: 0.0004\n",
      "Epoch [4/5], Step [375/375], Loss: 0.0196\n",
      "Validation accuracy and loss of the model on the test 4000 images: 69.125 %, 12.37223\n",
      "Train  accuracy and loss of the model on the test 12000 images: 98.16666666666667 %, 0.00009\n",
      "----------\n",
      "Epoch [5/5], Step [75/375], Loss: 0.0107\n",
      "Epoch [5/5], Step [150/375], Loss: 0.0002\n",
      "Epoch [5/5], Step [225/375], Loss: 0.0229\n",
      "Epoch [5/5], Step [300/375], Loss: 0.0001\n",
      "Epoch [5/5], Step [375/375], Loss: 0.0001\n",
      "Validation accuracy and loss of the model on the test 4000 images: 69.7 %, 6.16344\n",
      "Train  accuracy and loss of the model on the test 12000 images: 98.76666666666667 %, 0.02898\n",
      "----------\n",
      "Training complete in 11m 11s\n",
      "Best validation Acc: 70.200000\n",
      "Average accuracy on the validation 12000 images: 69.445\n",
      "----------\n",
      "Starting testing...\n",
      "\n",
      "Test accuracy and loss for the 1th pool: 70.25 %, 0.00255\n",
      "Test accuracy and loss for the 2th pool: 71.12 %, 0.00215\n",
      "Test accuracy and loss for the 3th pool: 70.58 %, 0.00080\n",
      "Test accuracy and loss for the 4th pool: 70.88 %, 0.00066\n",
      "Test accuracy and loss for the 5th pool: 69.95 %, 0.00140\n",
      "Test accuracy and loss for the 6th pool: 70.54 %, 0.00036\n",
      "Test accuracy and loss for the 7th pool: 70.54 %, 0.00027\n",
      "Test accuracy and loss for the 8th pool: 70.22 %, 0.00023\n",
      "Test accuracy and loss for the 9th pool: 70.69 %, 0.00023\n",
      "Test accuracy and loss for the 10th pool: 70.40 %, 0.00057\n",
      "----------\n",
      "Average of ten test accuracies on test data: 70.52 %, loss: 0.00092, Standard deviion of accuracy: 0.3210\n",
      "----------\n",
      "Testing complete in 0.0m 18.9565s\n",
      "----------\n",
      "2019-05-07 11:22:44 Starting training and validation...\n",
      "\n",
      "====================Data and Hyperparameter Overview====================\n",
      "\n",
      "Number of training examples: 12000 , Number of validation examples: 4000 \n",
      "Learning rate: 0.00010\n",
      "================================Results...==============================\n",
      "\n",
      "Epoch [1/5], Step [75/375], Loss: 0.0005\n",
      "Epoch [1/5], Step [150/375], Loss: 0.0443\n",
      "Epoch [1/5], Step [225/375], Loss: 0.0966\n",
      "Epoch [1/5], Step [300/375], Loss: 0.0004\n",
      "Epoch [1/5], Step [375/375], Loss: 0.1161\n",
      "Validation accuracy and loss of the model on the test 4000 images: 69.5 %, 3.40821\n",
      "Train  accuracy and loss of the model on the test 12000 images: 98.45833333333333 %, 0.14617\n",
      "----------\n",
      "Epoch [2/5], Step [75/375], Loss: 0.0385\n",
      "Epoch [2/5], Step [150/375], Loss: 0.0299\n",
      "Epoch [2/5], Step [225/375], Loss: 0.0013\n",
      "Epoch [2/5], Step [300/375], Loss: 0.0323\n",
      "Epoch [2/5], Step [375/375], Loss: 0.0491\n",
      "Validation accuracy and loss of the model on the test 4000 images: 72.6 %, 5.80457\n",
      "Train  accuracy and loss of the model on the test 12000 images: 98.68333333333334 %, 0.00000\n",
      "----------\n",
      "Epoch [3/5], Step [75/375], Loss: 0.0239\n",
      "Epoch [3/5], Step [150/375], Loss: 0.0562\n",
      "Epoch [3/5], Step [225/375], Loss: 0.0000\n",
      "Epoch [3/5], Step [300/375], Loss: 0.0000\n",
      "Epoch [3/5], Step [375/375], Loss: 0.0188\n",
      "Validation accuracy and loss of the model on the test 4000 images: 71.4 %, 5.89633\n",
      "Train  accuracy and loss of the model on the test 12000 images: 98.26666666666667 %, 0.13804\n",
      "----------\n",
      "Epoch [4/5], Step [75/375], Loss: 0.0029\n",
      "Epoch [4/5], Step [150/375], Loss: 0.0000\n",
      "Epoch [4/5], Step [225/375], Loss: 0.1527\n",
      "Epoch [4/5], Step [300/375], Loss: 0.0668\n",
      "Epoch [4/5], Step [375/375], Loss: 0.0017\n",
      "Validation accuracy and loss of the model on the test 4000 images: 69.5 %, 3.20745\n",
      "Train  accuracy and loss of the model on the test 12000 images: 98.33333333333333 %, 0.08778\n",
      "----------\n",
      "Epoch [5/5], Step [75/375], Loss: 0.0307\n",
      "Epoch [5/5], Step [150/375], Loss: 0.0319\n",
      "Epoch [5/5], Step [225/375], Loss: 0.0836\n",
      "Epoch [5/5], Step [300/375], Loss: 0.0681\n",
      "Epoch [5/5], Step [375/375], Loss: 0.0002\n",
      "Validation accuracy and loss of the model on the test 4000 images: 68.525 %, 7.06756\n",
      "Train  accuracy and loss of the model on the test 12000 images: 98.86666666666666 %, 0.00000\n",
      "----------\n",
      "Training complete in 11m 11s\n",
      "Best validation Acc: 72.600000\n",
      "Average accuracy on the validation 12000 images: 70.30499999999999\n",
      "----------\n",
      "Starting testing...\n",
      "\n",
      "Test accuracy and loss for the 1th pool: 75.50 %, 0.00560\n",
      "Test accuracy and loss for the 2th pool: 73.12 %, 0.00233\n",
      "Test accuracy and loss for the 3th pool: 74.17 %, 0.00155\n",
      "Test accuracy and loss for the 4th pool: 74.56 %, 0.00049\n",
      "Test accuracy and loss for the 5th pool: 73.80 %, 0.00079\n",
      "Test accuracy and loss for the 6th pool: 73.88 %, 0.00022\n",
      "Test accuracy and loss for the 7th pool: 73.93 %, 0.00062\n",
      "Test accuracy and loss for the 8th pool: 73.78 %, 0.00058\n",
      "Test accuracy and loss for the 9th pool: 73.78 %, 0.00062\n",
      "Test accuracy and loss for the 10th pool: 73.78 %, 0.00049\n",
      "----------\n",
      "Average of ten test accuracies on test data: 74.03 %, loss: 0.00133, Standard deviion of accuracy: 0.5966\n",
      "----------\n",
      "Testing complete in 0.0m 18.9659s\n",
      "----------\n",
      "----------\n",
      "----------\n",
      "Average of validation accuracies on 5 different random seed: 71.35 %, Average of testing accuracies on 5 different random seed: 74.07 %\n"
     ]
    }
   ],
   "source": [
    "seed= [1, 3, 7, 19, 22]\n",
    "\n",
    "val_acc_vect=[]\n",
    "test_acc_vect=[]\n",
    "\n",
    "\n",
    "for ii in seed: \n",
    "    torch.cuda.manual_seed(ii)\n",
    "    torch.manual_seed(ii)\n",
    "    \n",
    "    model = model1 #2 is number of classes\n",
    "    model = model.cuda()\n",
    "\n",
    "\n",
    "    optimizer = torch.optim.Adam(model.parameters(), lr=learning_rate)\n",
    "    optimizer.scheduler=lr_scheduler.ReduceLROnPlateau(optimizer, 'min')\n",
    "    \n",
    "    model, val_acc= train_model(model, criterion, optimizer, lr_scheduler, EPOCH)\n",
    "    testing = test_model (model, test_loader)\n",
    "    test_acc= testing[0]\n",
    "    \n",
    "    \n",
    "    val_acc_vect.append( val_acc )\n",
    "    test_acc_vect.append(test_acc)\n",
    "    \n",
    "    mean_val_acc = np.mean(val_acc_vect)\n",
    "    mean_test_acc = np.mean(test_acc_vect)\n",
    "    \n",
    "    \n",
    "    \n",
    "print('-' * 10)\n",
    "print('-' * 10)\n",
    "print('Average of validation accuracies on 5 different random seed: {:.2f} %, Average of testing accuracies on 5 different random seed: {:.2f} %'\n",
    "      .format(mean_val_acc, mean_test_acc)) "
   ]
  },
  {
   "cell_type": "code",
   "execution_count": null,
   "metadata": {},
   "outputs": [],
   "source": []
  }
 ],
 "metadata": {
  "kernelspec": {
   "display_name": "Python (pytorch)",
   "language": "python",
   "name": "pytorch_env"
  },
  "language_info": {
   "codemirror_mode": {
    "name": "ipython",
    "version": 3
   },
   "file_extension": ".py",
   "mimetype": "text/x-python",
   "name": "python",
   "nbconvert_exporter": "python",
   "pygments_lexer": "ipython3",
   "version": "3.7.5"
  }
 },
 "nbformat": 4,
 "nbformat_minor": 2
}
