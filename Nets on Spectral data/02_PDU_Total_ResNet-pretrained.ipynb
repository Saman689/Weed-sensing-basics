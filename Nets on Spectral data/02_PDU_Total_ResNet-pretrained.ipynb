{
 "cells": [
  {
   "cell_type": "markdown",
   "metadata": {},
   "source": [
    "### In this notebook we investigate a pretrained Resnet on PDU data"
   ]
  },
  {
   "cell_type": "code",
   "execution_count": 1,
   "metadata": {},
   "outputs": [],
   "source": [
    "%reload_ext autoreload\n",
    "%autoreload 2\n",
    "%matplotlib inline"
   ]
  },
  {
   "cell_type": "markdown",
   "metadata": {},
   "source": [
    "### Importing the libraries"
   ]
  },
  {
   "cell_type": "code",
   "execution_count": 2,
   "metadata": {},
   "outputs": [],
   "source": [
    "import torch\n",
    "import torch.backends.cudnn as cudnn\n",
    "\n",
    "import torch.nn as nn\n",
    "import torch.utils.data as Data\n",
    "from torch.autograd import Function, Variable\n",
    "from torch.optim import lr_scheduler\n",
    "import torch.utils.model_zoo as model_zoo\n",
    "\n",
    "import torchvision\n",
    "import torchvision.transforms as transforms\n",
    "import torchvision.models as models\n",
    "\n",
    "\n",
    "from pathlib import Path\n",
    "import os\n",
    "import copy\n",
    "import math\n",
    "import matplotlib.pyplot as plt\n",
    "import numpy as np\n",
    "\n",
    "from datetime import datetime\n",
    "import time as time"
   ]
  },
  {
   "cell_type": "markdown",
   "metadata": {},
   "source": [
    "#### Checking whether the GPU is active"
   ]
  },
  {
   "cell_type": "code",
   "execution_count": 3,
   "metadata": {},
   "outputs": [
    {
     "data": {
      "text/plain": [
       "True"
      ]
     },
     "execution_count": 3,
     "metadata": {},
     "output_type": "execute_result"
    }
   ],
   "source": [
    "torch.backends.cudnn.enabled"
   ]
  },
  {
   "cell_type": "code",
   "execution_count": 4,
   "metadata": {},
   "outputs": [
    {
     "data": {
      "text/plain": [
       "True"
      ]
     },
     "execution_count": 4,
     "metadata": {},
     "output_type": "execute_result"
    }
   ],
   "source": [
    "torch.cuda.is_available()"
   ]
  },
  {
   "cell_type": "markdown",
   "metadata": {},
   "source": [
    "### Hyper Parameters"
   ]
  },
  {
   "cell_type": "code",
   "execution_count": 5,
   "metadata": {},
   "outputs": [],
   "source": [
    "EPOCH= 5\n",
    "\n",
    "BchSz=32 # BATCHSIZE\n",
    "\n",
    "# Learning Rate\n",
    "learning_rate = 0.0001\n",
    "\n",
    "\n",
    "# Dropout rate\n",
    "Dropout=0.1"
   ]
  },
  {
   "cell_type": "code",
   "execution_count": 6,
   "metadata": {},
   "outputs": [],
   "source": [
    "# Loss calculator\n",
    "criterion = nn.CrossEntropyLoss()   # cross entropy loss"
   ]
  },
  {
   "cell_type": "markdown",
   "metadata": {},
   "source": [
    "Random seeds for coda and shuffling"
   ]
  },
  {
   "cell_type": "code",
   "execution_count": 7,
   "metadata": {},
   "outputs": [
    {
     "data": {
      "text/plain": [
       "<torch._C.Generator at 0x7f79d44e16d0>"
      ]
     },
     "execution_count": 7,
     "metadata": {},
     "output_type": "execute_result"
    }
   ],
   "source": [
    "torch.cuda.manual_seed(42)\n",
    "torch.manual_seed(42)"
   ]
  },
  {
   "cell_type": "markdown",
   "metadata": {},
   "source": [
    "Dataset paths"
   ]
  },
  {
   "cell_type": "code",
   "execution_count": 8,
   "metadata": {},
   "outputs": [],
   "source": [
    "PATH = Path(\"/home/saman/Saman/data/PDU_Raw_Data01/Test06_reshape224*224/\")\n",
    "train_path = PATH / 'train' / 'Total'\n",
    "valid_path = PATH / 'valid' / 'Total'\n",
    "test_path = PATH / 'test' / 'Total'"
   ]
  },
  {
   "cell_type": "markdown",
   "metadata": {},
   "source": [
    "### Model parameters"
   ]
  },
  {
   "cell_type": "code",
   "execution_count": 9,
   "metadata": {},
   "outputs": [],
   "source": [
    "EPOCH= 5\n",
    "\n",
    "BchSz=32 # BATCHSIZE\n",
    "\n",
    "# Learning Rate\n",
    "learning_rate = 0.0001\n",
    "\n",
    "\n",
    "# Dropout rate\n",
    "Dropout=0.5"
   ]
  },
  {
   "cell_type": "markdown",
   "metadata": {},
   "source": [
    "### Loading data set (including augmentations)"
   ]
  },
  {
   "cell_type": "markdown",
   "metadata": {},
   "source": [
    "#### Train the model with vertically and horizontally flipping"
   ]
  },
  {
   "cell_type": "code",
   "execution_count": 10,
   "metadata": {},
   "outputs": [],
   "source": [
    "# Mode of transformation\n",
    "transformation = transforms.Compose([\n",
    "    transforms.RandomHorizontalFlip(),\n",
    "    transforms.RandomHorizontalFlip(),\n",
    "    transforms.ToTensor(),\n",
    "]) "
   ]
  },
  {
   "cell_type": "markdown",
   "metadata": {},
   "source": [
    "### Reading data after transformation"
   ]
  },
  {
   "cell_type": "code",
   "execution_count": 11,
   "metadata": {},
   "outputs": [],
   "source": [
    "# Reading data after transformation\n",
    "train_data = torchvision.datasets.ImageFolder(train_path,transform=transformation)\n",
    "train_loader =torch.utils.data.DataLoader(train_data, batch_size=BchSz, shuffle=True,\n",
    "                                          num_workers=8)\n",
    "\n",
    "valid_data = torchvision.datasets.ImageFolder(valid_path,transform=transformation)\n",
    "valid_loader =torch.utils.data.DataLoader(valid_data, batch_size=BchSz, shuffle=True,\n",
    "                                          num_workers=8)"
   ]
  },
  {
   "cell_type": "code",
   "execution_count": 12,
   "metadata": {},
   "outputs": [],
   "source": [
    "test_data = torchvision.datasets.ImageFolder(test_path, transform=torchvision.transforms.ToTensor())\n",
    "test_loader = torch.utils.data.DataLoader(test_data , batch_size=BchSz)"
   ]
  },
  {
   "cell_type": "markdown",
   "metadata": {},
   "source": [
    "### Checking dataset"
   ]
  },
  {
   "cell_type": "code",
   "execution_count": 13,
   "metadata": {},
   "outputs": [
    {
     "data": {
      "text/plain": [
       "(12000, 4000, 4000)"
      ]
     },
     "execution_count": 13,
     "metadata": {},
     "output_type": "execute_result"
    }
   ],
   "source": [
    "len(train_data), len(valid_data), len(test_data)"
   ]
  },
  {
   "cell_type": "code",
   "execution_count": 14,
   "metadata": {},
   "outputs": [
    {
     "data": {
      "text/plain": [
       "{'Canola': 0, 'Radish': 1}"
      ]
     },
     "execution_count": 14,
     "metadata": {},
     "output_type": "execute_result"
    }
   ],
   "source": [
    "train_data.class_to_idx"
   ]
  },
  {
   "cell_type": "markdown",
   "metadata": {},
   "source": [
    "A function to make a title according to classes"
   ]
  },
  {
   "cell_type": "code",
   "execution_count": 15,
   "metadata": {},
   "outputs": [],
   "source": [
    "def IdxtoClass(idx):\n",
    "    if idx==0:\n",
    "        Class='Canola'\n",
    "    if idx==1:\n",
    "        Class='Radish'\n",
    "    return Class"
   ]
  },
  {
   "cell_type": "markdown",
   "metadata": {},
   "source": [
    "### Visualizing data"
   ]
  },
  {
   "cell_type": "code",
   "execution_count": 16,
   "metadata": {},
   "outputs": [
    {
     "data": {
      "image/png": "[encoded data removed]",
      "text/plain": [
       "<Figure size 432x288 with 4 Axes>"
      ]
     },
     "metadata": {},
     "output_type": "display_data"
    }
   ],
   "source": [
    "for i in range(2):\n",
    "    img = plt.imread(train_data.imgs[i][0])\n",
    "    plt.subplots_adjust(wspace=1, hspace=0.4)\n",
    "    plt.subplot(2,2,i+1)   \n",
    "    plt.imshow(img, aspect='auto' , cmap='viridis');\n",
    "    plt.title('%s' % IdxtoClass(train_data.imgs[i][1])) #The second index if is 1 return the label\n",
    "   \n",
    "    img = plt.imread(train_data.imgs[-(i+1)][0])\n",
    "    plt.subplot(2,2,i+3)\n",
    "    plt.imshow(img, aspect='auto' , cmap='viridis');\n",
    "    plt.title('%s' % IdxtoClass(train_data.imgs[-(i+1)][1])) #The second index if is 1 return the label\n",
    "\n",
    "plt.show()"
   ]
  },
  {
   "cell_type": "markdown",
   "metadata": {},
   "source": [
    "Data size"
   ]
  },
  {
   "cell_type": "code",
   "execution_count": 17,
   "metadata": {},
   "outputs": [
    {
     "data": {
      "text/plain": [
       "(224, 224, 3)"
      ]
     },
     "execution_count": 17,
     "metadata": {},
     "output_type": "execute_result"
    }
   ],
   "source": [
    "img = plt.imread(train_data.imgs[0][0]) # The second index if is 0 return the file name\n",
    "IMSHAPE= img.shape\n",
    "IMSHAPE"
   ]
  },
  {
   "cell_type": "code",
   "execution_count": 18,
   "metadata": {},
   "outputs": [
    {
     "data": {
      "text/plain": [
       "12000"
      ]
     },
     "execution_count": 18,
     "metadata": {},
     "output_type": "execute_result"
    }
   ],
   "source": [
    "len(train_data.imgs)"
   ]
  },
  {
   "cell_type": "markdown",
   "metadata": {},
   "source": [
    "### Training and Validating"
   ]
  },
  {
   "cell_type": "markdown",
   "metadata": {},
   "source": [
    "#### Training and validation function"
   ]
  },
  {
   "cell_type": "code",
   "execution_count": 19,
   "metadata": {},
   "outputs": [],
   "source": [
    "EPOCH\n",
    "def train_model(model, criterion, optimizer, lr_scheduler, EPOCH):\n",
    "        print(str(datetime.now()).split('.')[0], \"Starting training and validation...\\n\")\n",
    "        print(\"====================Data and Hyperparameter Overview====================\\n\")\n",
    "        print(\"Number of training examples: {} , Number of validation examples: {} \".format(len(train_data), len(valid_data)))\n",
    "        print(\"Learning rate: {:,.5f}\".format(learning_rate))\n",
    "        print(\"================================Results...==============================\\n\")\n",
    "\n",
    "        since = time.time()  #record the beginning time\n",
    "\n",
    "        best_model = model\n",
    "        best_acc = 0.0\n",
    "        acc_vect =[]   \n",
    "\n",
    "        for epoch in range(EPOCH):\n",
    "            for i, (images, labels) in enumerate(train_loader):   \n",
    "                images = Variable(images).cuda()\n",
    "                labels = Variable(labels).cuda()\n",
    "\n",
    "                # Forward pass\n",
    "                outputs = model(images)            # model output\n",
    "                loss = criterion(outputs, labels)  # cross entropy loss\n",
    "\n",
    "                # Trying binary cross entropy\n",
    "                #loss = criterion(torch.max(outputs.data, 1), labels)\n",
    "                #loss = torch.nn.functional.binary_cross_entropy(outputs, labels)\n",
    "\n",
    "                # Backward and optimize\n",
    "                optimizer.zero_grad()             # clear gradients for this training step\n",
    "                loss.backward()                   # backpropagation, compute gradients\n",
    "                optimizer.step()                  # apply gradients\n",
    "\n",
    "                if (i+1) % 75 == 0:               # Reporting the loss and progress every 50 step\n",
    "                    print ('Epoch [{}/{}], Step [{}/{}], Loss: {:.4f}' \n",
    "                               .format(epoch+1, EPOCH, i+1, len(train_loader), loss.item()))\n",
    "\n",
    "            model.eval()  # eval mode (batchnorm uses moving mean/variance instead of mini-batch mean/variance)\n",
    "\n",
    "            with torch.no_grad():\n",
    "                correct = 0\n",
    "                total = 0\n",
    "                for images, labels in valid_loader:\n",
    "                    \n",
    "                    images = Variable(images).cuda()\n",
    "                    labels = Variable(labels).cuda()\n",
    "                    \n",
    "                    outputs = model(images)\n",
    "                    _, predicted = torch.max(outputs.data, 1)\n",
    "\n",
    "                    loss = criterion(outputs, labels)\n",
    "                    loss += loss.item()\n",
    "\n",
    "                    total += labels.size(0)\n",
    "                    correct += (predicted == labels).sum().item()\n",
    "\n",
    "                epoch_loss= loss / total\n",
    "                epoch_acc = 100 * correct / total\n",
    "                acc_vect.append(epoch_acc)\n",
    "\n",
    "                if epoch_acc > best_acc:\n",
    "                    best_acc = epoch_acc\n",
    "                    best_model = copy.deepcopy(model)\n",
    "\n",
    "                print('Validation accuracy and loss of the model on the test {} images: {} %, {:.5f}'\n",
    "                      .format(len(valid_data), 100 * correct / total, loss))\n",
    "\n",
    "            correct = 0\n",
    "            total = 0\n",
    "            for images, labels in train_loader:\n",
    "                images = Variable(images).cuda()\n",
    "                labels = Variable(labels).cuda()\n",
    "                outputs = model(images)\n",
    "                _, predicted = torch.max(outputs.data, 1)\n",
    "\n",
    "                loss = criterion(outputs, labels)\n",
    "                loss += loss.item()\n",
    "\n",
    "                total += labels.size(0)\n",
    "                correct += (predicted == labels).sum().item()\n",
    "\n",
    "            epoch_loss= loss / total\n",
    "            epoch_acc = 100 * correct / total\n",
    "\n",
    "            print('Train  accuracy and loss of the model on the test {} images: {} %, {:.5f}'\n",
    "                  .format(len(train_data), epoch_acc, loss))\n",
    "            print('-' * 10)\n",
    "\n",
    "        time_elapsed = time.time() - since\n",
    "        print('Training complete in {:.0f}m {:.0f}s'.format(\n",
    "            time_elapsed // 60, time_elapsed % 60))\n",
    "        print('Best validation Acc: {:4f}'.format(best_acc)) \n",
    "        \n",
    "        mean_acc = np.mean(acc_vect)\n",
    "        print('Average accuracy on the validation {} images: {}'\n",
    "              .format(len(train_data),mean_acc))\n",
    "        print('-' * 10)\n",
    "        return best_model, mean_acc"
   ]
  },
  {
   "cell_type": "markdown",
   "metadata": {},
   "source": [
    "### Testing function"
   ]
  },
  {
   "cell_type": "code",
   "execution_count": 20,
   "metadata": {},
   "outputs": [],
   "source": [
    "def test_model(model, test_loader):\n",
    "    print(\"Starting testing...\\n\")\n",
    "    model.eval()  # eval mode (batchnorm uses moving mean/variance instead of mini-batch mean/variance)\n",
    "\n",
    "    with torch.no_grad():\n",
    "        correct = 0\n",
    "        total = 0\n",
    "        test_loss_vect=[]\n",
    "        test_acc_vect=[]\n",
    "        \n",
    "        since = time.time()  #record the beginning time\n",
    "        \n",
    "        for i in range(10):\n",
    "            \n",
    "            Indx = torch.randperm(len(test_data))\n",
    "            Cut=int(len(Indx)/10) # Here 10% showing the proportion of data is chosen for pooling\n",
    "            indices=Indx[:Cut]            \n",
    "            Sampler = Data.SubsetRandomSampler(indices)\n",
    "            pooled_data =  torch.utils.data.DataLoader(test_data , batch_size=BchSz,sampler=Sampler)\n",
    "\n",
    "            for images, labels in pooled_data:\n",
    "                images = Variable(images).cuda()\n",
    "                labels = Variable(labels).cuda()\n",
    "                \n",
    "                outputs = model(images)\n",
    "                _, predicted = torch.max(outputs.data, 1)\n",
    "                loss = criterion(outputs, labels)\n",
    "                total += labels.size(0)\n",
    "                correct += (predicted == labels).sum().item()\n",
    "                \n",
    "            test_loss= loss / total\n",
    "            test_accuracy= 100 * correct / total\n",
    "            \n",
    "            test_loss_vect.append(test_loss)\n",
    "            test_acc_vect.append(test_accuracy)\n",
    "\n",
    "            \n",
    "            print('Test accuracy and loss for the {}th pool: {:.2f} %, {:.5f}'\n",
    "                  .format(i+1, test_accuracy, test_loss))\n",
    "            \n",
    "        \n",
    "        mean_test_loss = np.mean(test_loss_vect)\n",
    "        mean_test_acc = np.mean(test_acc_vect)\n",
    "        std_test_acc = np.std(test_acc_vect)\n",
    "        \n",
    "        print('-' * 10)\n",
    "        print('Average of ten test accuracies on test data: {:.2f} %, loss: {:.5f}, Standard deviion of accuracy: {:.4f}'\n",
    "              .format(mean_test_acc, mean_test_loss, std_test_acc))\n",
    "        \n",
    "        print('-' * 10)\n",
    "        time_elapsed = time.time() - since\n",
    "        print('Testing complete in {:.1f}m {:.4f}s'.format(time_elapsed // 60, time_elapsed % 60))\n",
    "        \n",
    "        print('-' * 10)\n",
    "        \n",
    "        return mean_test_acc, mean_test_loss, std_test_acc"
   ]
  },
  {
   "cell_type": "markdown",
   "metadata": {},
   "source": [
    "### Residual network model "
   ]
  },
  {
   "cell_type": "markdown",
   "metadata": {},
   "source": [
    "#### Pretrained Resnet 18 model"
   ]
  },
  {
   "cell_type": "code",
   "execution_count": 21,
   "metadata": {},
   "outputs": [
    {
     "name": "stdout",
     "output_type": "stream",
     "text": [
      "Sequential(\n",
      "  (0): ResNet(\n",
      "    (conv1): Conv2d(3, 64, kernel_size=(7, 7), stride=(2, 2), padding=(3, 3), bias=False)\n",
      "    (bn1): BatchNorm2d(64, eps=1e-05, momentum=0.1, affine=True, track_running_stats=True)\n",
      "    (relu): ReLU(inplace)\n",
      "    (maxpool): MaxPool2d(kernel_size=3, stride=2, padding=1, dilation=1, ceil_mode=False)\n",
      "    (layer1): Sequential(\n",
      "      (0): BasicBlock(\n",
      "        (conv1): Conv2d(64, 64, kernel_size=(3, 3), stride=(1, 1), padding=(1, 1), bias=False)\n",
      "        (bn1): BatchNorm2d(64, eps=1e-05, momentum=0.1, affine=True, track_running_stats=True)\n",
      "        (relu): ReLU(inplace)\n",
      "        (conv2): Conv2d(64, 64, kernel_size=(3, 3), stride=(1, 1), padding=(1, 1), bias=False)\n",
      "        (bn2): BatchNorm2d(64, eps=1e-05, momentum=0.1, affine=True, track_running_stats=True)\n",
      "      )\n",
      "      (1): BasicBlock(\n",
      "        (conv1): Conv2d(64, 64, kernel_size=(3, 3), stride=(1, 1), padding=(1, 1), bias=False)\n",
      "        (bn1): BatchNorm2d(64, eps=1e-05, momentum=0.1, affine=True, track_running_stats=True)\n",
      "        (relu): ReLU(inplace)\n",
      "        (conv2): Conv2d(64, 64, kernel_size=(3, 3), stride=(1, 1), padding=(1, 1), bias=False)\n",
      "        (bn2): BatchNorm2d(64, eps=1e-05, momentum=0.1, affine=True, track_running_stats=True)\n",
      "      )\n",
      "    )\n",
      "    (layer2): Sequential(\n",
      "      (0): BasicBlock(\n",
      "        (conv1): Conv2d(64, 128, kernel_size=(3, 3), stride=(2, 2), padding=(1, 1), bias=False)\n",
      "        (bn1): BatchNorm2d(128, eps=1e-05, momentum=0.1, affine=True, track_running_stats=True)\n",
      "        (relu): ReLU(inplace)\n",
      "        (conv2): Conv2d(128, 128, kernel_size=(3, 3), stride=(1, 1), padding=(1, 1), bias=False)\n",
      "        (bn2): BatchNorm2d(128, eps=1e-05, momentum=0.1, affine=True, track_running_stats=True)\n",
      "        (downsample): Sequential(\n",
      "          (0): Conv2d(64, 128, kernel_size=(1, 1), stride=(2, 2), bias=False)\n",
      "          (1): BatchNorm2d(128, eps=1e-05, momentum=0.1, affine=True, track_running_stats=True)\n",
      "        )\n",
      "      )\n",
      "      (1): BasicBlock(\n",
      "        (conv1): Conv2d(128, 128, kernel_size=(3, 3), stride=(1, 1), padding=(1, 1), bias=False)\n",
      "        (bn1): BatchNorm2d(128, eps=1e-05, momentum=0.1, affine=True, track_running_stats=True)\n",
      "        (relu): ReLU(inplace)\n",
      "        (conv2): Conv2d(128, 128, kernel_size=(3, 3), stride=(1, 1), padding=(1, 1), bias=False)\n",
      "        (bn2): BatchNorm2d(128, eps=1e-05, momentum=0.1, affine=True, track_running_stats=True)\n",
      "      )\n",
      "    )\n",
      "    (layer3): Sequential(\n",
      "      (0): BasicBlock(\n",
      "        (conv1): Conv2d(128, 256, kernel_size=(3, 3), stride=(2, 2), padding=(1, 1), bias=False)\n",
      "        (bn1): BatchNorm2d(256, eps=1e-05, momentum=0.1, affine=True, track_running_stats=True)\n",
      "        (relu): ReLU(inplace)\n",
      "        (conv2): Conv2d(256, 256, kernel_size=(3, 3), stride=(1, 1), padding=(1, 1), bias=False)\n",
      "        (bn2): BatchNorm2d(256, eps=1e-05, momentum=0.1, affine=True, track_running_stats=True)\n",
      "        (downsample): Sequential(\n",
      "          (0): Conv2d(128, 256, kernel_size=(1, 1), stride=(2, 2), bias=False)\n",
      "          (1): BatchNorm2d(256, eps=1e-05, momentum=0.1, affine=True, track_running_stats=True)\n",
      "        )\n",
      "      )\n",
      "      (1): BasicBlock(\n",
      "        (conv1): Conv2d(256, 256, kernel_size=(3, 3), stride=(1, 1), padding=(1, 1), bias=False)\n",
      "        (bn1): BatchNorm2d(256, eps=1e-05, momentum=0.1, affine=True, track_running_stats=True)\n",
      "        (relu): ReLU(inplace)\n",
      "        (conv2): Conv2d(256, 256, kernel_size=(3, 3), stride=(1, 1), padding=(1, 1), bias=False)\n",
      "        (bn2): BatchNorm2d(256, eps=1e-05, momentum=0.1, affine=True, track_running_stats=True)\n",
      "      )\n",
      "    )\n",
      "    (layer4): Sequential(\n",
      "      (0): BasicBlock(\n",
      "        (conv1): Conv2d(256, 512, kernel_size=(3, 3), stride=(2, 2), padding=(1, 1), bias=False)\n",
      "        (bn1): BatchNorm2d(512, eps=1e-05, momentum=0.1, affine=True, track_running_stats=True)\n",
      "        (relu): ReLU(inplace)\n",
      "        (conv2): Conv2d(512, 512, kernel_size=(3, 3), stride=(1, 1), padding=(1, 1), bias=False)\n",
      "        (bn2): BatchNorm2d(512, eps=1e-05, momentum=0.1, affine=True, track_running_stats=True)\n",
      "        (downsample): Sequential(\n",
      "          (0): Conv2d(256, 512, kernel_size=(1, 1), stride=(2, 2), bias=False)\n",
      "          (1): BatchNorm2d(512, eps=1e-05, momentum=0.1, affine=True, track_running_stats=True)\n",
      "        )\n",
      "      )\n",
      "      (1): BasicBlock(\n",
      "        (conv1): Conv2d(512, 512, kernel_size=(3, 3), stride=(1, 1), padding=(1, 1), bias=False)\n",
      "        (bn1): BatchNorm2d(512, eps=1e-05, momentum=0.1, affine=True, track_running_stats=True)\n",
      "        (relu): ReLU(inplace)\n",
      "        (conv2): Conv2d(512, 512, kernel_size=(3, 3), stride=(1, 1), padding=(1, 1), bias=False)\n",
      "        (bn2): BatchNorm2d(512, eps=1e-05, momentum=0.1, affine=True, track_running_stats=True)\n",
      "      )\n",
      "    )\n",
      "    (avgpool): AvgPool2d(kernel_size=7, stride=1, padding=0)\n",
      "    (fc): Linear(in_features=512, out_features=1000, bias=True)\n",
      "  )\n",
      "  (1): ReLU()\n",
      "  (2): Linear(in_features=1000, out_features=2, bias=True)\n",
      ")\n"
     ]
    }
   ],
   "source": [
    "model1 = models.resnet18(pretrained=True) #2 is number of classes\n",
    "model2= nn.Sequential(model1, nn.ReLU(),nn.Linear(1000, 2))\n",
    "print(model2)"
   ]
  },
  {
   "cell_type": "code",
   "execution_count": 22,
   "metadata": {},
   "outputs": [],
   "source": [
    "def get_num_params(model):\n",
    "    TotalParam=0\n",
    "    for param in list(model.parameters()):\n",
    "        nn=1\n",
    "        for size in list(param.size()):\n",
    "            nn = nn*size\n",
    "        TotalParam += nn\n",
    "    return TotalParam"
   ]
  },
  {
   "cell_type": "code",
   "execution_count": 23,
   "metadata": {},
   "outputs": [
    {
     "data": {
      "text/plain": [
       "(11689512, 11691514)"
      ]
     },
     "execution_count": 23,
     "metadata": {},
     "output_type": "execute_result"
    }
   ],
   "source": [
    "get_num_params(model1), get_num_params(model2)"
   ]
  },
  {
   "cell_type": "markdown",
   "metadata": {},
   "source": [
    "#### Pretrained Resnet 18 model"
   ]
  },
  {
   "cell_type": "code",
   "execution_count": 22,
   "metadata": {},
   "outputs": [
    {
     "name": "stdout",
     "output_type": "stream",
     "text": [
      "2019-03-27 10:33:40 Starting training and validation...\n",
      "\n",
      "====================Data and Hyperparameter Overview====================\n",
      "\n",
      "Number of training examples: 12000 , Number of validation examples: 4000 \n",
      "Learning rate: 0.00010\n",
      "================================Results...==============================\n",
      "\n",
      "Epoch [1/5], Step [75/375], Loss: 0.2033\n",
      "Epoch [1/5], Step [150/375], Loss: 0.3238\n",
      "Epoch [1/5], Step [225/375], Loss: 0.0477\n",
      "Epoch [1/5], Step [300/375], Loss: 0.1704\n",
      "Epoch [1/5], Step [375/375], Loss: 0.0324\n",
      "Validation accuracy and loss of the model on the test 4000 images: 71.8 %, 4.00686\n",
      "Train  accuracy and loss of the model on the test 12000 images: 99.075 %, 0.38175\n",
      "----------\n",
      "Epoch [2/5], Step [75/375], Loss: 0.7582\n",
      "Epoch [2/5], Step [150/375], Loss: 0.6752\n",
      "Epoch [2/5], Step [225/375], Loss: 0.7189\n",
      "Epoch [2/5], Step [300/375], Loss: 0.6388\n",
      "Epoch [2/5], Step [375/375], Loss: 0.6434\n",
      "Validation accuracy and loss of the model on the test 4000 images: 59.725 %, 1.29842\n",
      "Train  accuracy and loss of the model on the test 12000 images: 71.2 %, 1.08882\n",
      "----------\n",
      "Epoch [3/5], Step [75/375], Loss: 0.6358\n",
      "Epoch [3/5], Step [150/375], Loss: 0.5130\n",
      "Epoch [3/5], Step [225/375], Loss: 0.7267\n",
      "Epoch [3/5], Step [300/375], Loss: 0.7047\n",
      "Epoch [3/5], Step [375/375], Loss: 0.2749\n",
      "Validation accuracy and loss of the model on the test 4000 images: 65.25 %, 1.85399\n",
      "Train  accuracy and loss of the model on the test 12000 images: 87.74166666666666 %, 0.91623\n",
      "----------\n",
      "Epoch [4/5], Step [75/375], Loss: 0.1527\n",
      "Epoch [4/5], Step [150/375], Loss: 0.2340\n",
      "Epoch [4/5], Step [225/375], Loss: 0.0868\n",
      "Epoch [4/5], Step [300/375], Loss: 0.2049\n",
      "Epoch [4/5], Step [375/375], Loss: 0.1516\n",
      "Validation accuracy and loss of the model on the test 4000 images: 65.225 %, 0.95812\n",
      "Train  accuracy and loss of the model on the test 12000 images: 94.925 %, 0.12304\n",
      "----------\n",
      "Epoch [5/5], Step [75/375], Loss: 0.1451\n",
      "Epoch [5/5], Step [150/375], Loss: 0.1656\n",
      "Epoch [5/5], Step [225/375], Loss: 0.0182\n",
      "Epoch [5/5], Step [300/375], Loss: 0.0602\n",
      "Epoch [5/5], Step [375/375], Loss: 0.0638\n",
      "Validation accuracy and loss of the model on the test 4000 images: 69.4 %, 4.67947\n",
      "Train  accuracy and loss of the model on the test 12000 images: 98.65833333333333 %, 0.16398\n",
      "----------\n",
      "Training complete in 2m 42s\n",
      "Best validation Acc: 71.800000\n",
      "Average accuracy on the validation 12000 images: 66.28\n",
      "----------\n",
      "Starting testing...\n",
      "\n",
      "Test accuracy and loss for the 1th pool: 87.00 %, 0.00107\n",
      "Test accuracy and loss for the 2th pool: 87.00 %, 0.00063\n",
      "Test accuracy and loss for the 3th pool: 87.33 %, 0.00018\n",
      "Test accuracy and loss for the 4th pool: 88.00 %, 0.00006\n",
      "Test accuracy and loss for the 5th pool: 88.50 %, 0.00014\n",
      "Test accuracy and loss for the 6th pool: 88.12 %, 0.00032\n",
      "Test accuracy and loss for the 7th pool: 88.75 %, 0.00014\n",
      "Test accuracy and loss for the 8th pool: 88.69 %, 0.00016\n",
      "Test accuracy and loss for the 9th pool: 88.69 %, 0.00003\n",
      "Test accuracy and loss for the 10th pool: 88.47 %, 0.00024\n",
      "----------\n",
      "Average of ten test accuracies on test data: 88.06 %, loss: 0.00030, Standard deviion of accuracy: 0.6649\n",
      "----------\n",
      "Testing complete in 0.0m 6.5623s\n",
      "----------\n"
     ]
    },
    {
     "data": {
      "text/plain": [
       "(88.05652777777777, 0.0002973418, 0.6649172793858842)"
      ]
     },
     "execution_count": 22,
     "metadata": {},
     "output_type": "execute_result"
    }
   ],
   "source": [
    "model = model1 #2 is number of classes\n",
    "model = model.cuda()\n",
    "\n",
    "optimizer = torch.optim.Adam(model.parameters(), lr=learning_rate)\n",
    "optimizer.scheduler=lr_scheduler.ReduceLROnPlateau(optimizer, 'min')\n",
    "\n",
    "train_model(model, criterion, optimizer, lr_scheduler, EPOCH)\n",
    "test_model (model, test_loader)"
   ]
  },
  {
   "cell_type": "markdown",
   "metadata": {},
   "source": [
    "#### Pretrained Resnet18 model + a fully connected layer"
   ]
  },
  {
   "cell_type": "code",
   "execution_count": 23,
   "metadata": {},
   "outputs": [
    {
     "name": "stdout",
     "output_type": "stream",
     "text": [
      "2019-03-27 10:36:29 Starting training and validation...\n",
      "\n",
      "====================Data and Hyperparameter Overview====================\n",
      "\n",
      "Number of training examples: 12000 , Number of validation examples: 4000 \n",
      "Learning rate: 0.00010\n",
      "================================Results...==============================\n",
      "\n",
      "Epoch [1/5], Step [75/375], Loss: 0.0189\n",
      "Epoch [1/5], Step [150/375], Loss: 0.0470\n",
      "Epoch [1/5], Step [225/375], Loss: 0.1424\n",
      "Epoch [1/5], Step [300/375], Loss: 0.0030\n",
      "Epoch [1/5], Step [375/375], Loss: 0.7051\n",
      "Validation accuracy and loss of the model on the test 4000 images: 59.675 %, 4.48419\n",
      "Train  accuracy and loss of the model on the test 12000 images: 95.65 %, 0.15376\n",
      "----------\n",
      "Epoch [2/5], Step [75/375], Loss: 0.2041\n",
      "Epoch [2/5], Step [150/375], Loss: 0.0076\n",
      "Epoch [2/5], Step [225/375], Loss: 0.0047\n",
      "Epoch [2/5], Step [300/375], Loss: 0.3027\n",
      "Epoch [2/5], Step [375/375], Loss: 0.1448\n",
      "Validation accuracy and loss of the model on the test 4000 images: 66.125 %, 3.93872\n",
      "Train  accuracy and loss of the model on the test 12000 images: 99.38333333333334 %, 0.02326\n",
      "----------\n",
      "Epoch [3/5], Step [75/375], Loss: 0.0002\n",
      "Epoch [3/5], Step [150/375], Loss: 0.0010\n",
      "Epoch [3/5], Step [225/375], Loss: 0.0111\n",
      "Epoch [3/5], Step [300/375], Loss: 0.0025\n",
      "Epoch [3/5], Step [375/375], Loss: 0.0693\n",
      "Validation accuracy and loss of the model on the test 4000 images: 67.575 %, 5.74568\n",
      "Train  accuracy and loss of the model on the test 12000 images: 99.68333333333334 %, 0.03410\n",
      "----------\n",
      "Epoch [4/5], Step [75/375], Loss: 0.0161\n",
      "Epoch [4/5], Step [150/375], Loss: 0.0001\n",
      "Epoch [4/5], Step [225/375], Loss: 0.0000\n",
      "Epoch [4/5], Step [300/375], Loss: 0.0000\n",
      "Epoch [4/5], Step [375/375], Loss: 0.0029\n",
      "Validation accuracy and loss of the model on the test 4000 images: 65.925 %, 3.33107\n",
      "Train  accuracy and loss of the model on the test 12000 images: 98.99166666666666 %, 0.04718\n",
      "----------\n",
      "Epoch [5/5], Step [75/375], Loss: 0.0005\n",
      "Epoch [5/5], Step [150/375], Loss: 0.0081\n",
      "Epoch [5/5], Step [225/375], Loss: 0.0393\n",
      "Epoch [5/5], Step [300/375], Loss: 0.0002\n",
      "Epoch [5/5], Step [375/375], Loss: 0.0134\n",
      "Validation accuracy and loss of the model on the test 4000 images: 67.8 %, 3.52783\n",
      "Train  accuracy and loss of the model on the test 12000 images: 99.60833333333333 %, 0.01092\n",
      "----------\n",
      "Training complete in 2m 43s\n",
      "Best validation Acc: 67.800000\n",
      "Average accuracy on the validation 12000 images: 65.42\n",
      "----------\n",
      "Starting testing...\n",
      "\n",
      "Test accuracy and loss for the 1th pool: 84.50 %, 0.00019\n",
      "Test accuracy and loss for the 2th pool: 81.50 %, 0.00219\n",
      "Test accuracy and loss for the 3th pool: 81.75 %, 0.00084\n",
      "Test accuracy and loss for the 4th pool: 82.00 %, 0.00052\n",
      "Test accuracy and loss for the 5th pool: 82.20 %, 0.00001\n",
      "Test accuracy and loss for the 6th pool: 82.38 %, 0.00007\n",
      "Test accuracy and loss for the 7th pool: 82.46 %, 0.00011\n",
      "Test accuracy and loss for the 8th pool: 82.59 %, 0.00022\n",
      "Test accuracy and loss for the 9th pool: 82.64 %, 0.00014\n",
      "Test accuracy and loss for the 10th pool: 82.72 %, 0.00030\n",
      "----------\n",
      "Average of ten test accuracies on test data: 82.47 %, loss: 0.00046, Standard deviion of accuracy: 0.7741\n",
      "----------\n",
      "Testing complete in 0.0m 6.3224s\n",
      "----------\n"
     ]
    },
    {
     "data": {
      "text/plain": [
       "(82.47469246031747, 0.00045994497, 0.7740607198736436)"
      ]
     },
     "execution_count": 23,
     "metadata": {},
     "output_type": "execute_result"
    }
   ],
   "source": [
    "model = model2 #2 is number of classes\n",
    "model = model.cuda()\n",
    "\n",
    "optimizer = torch.optim.Adam(model.parameters(), lr=learning_rate)\n",
    "optimizer.scheduler=lr_scheduler.ReduceLROnPlateau(optimizer, 'min')\n",
    "\n",
    "train_model(model, criterion, optimizer, lr_scheduler, EPOCH)\n",
    "test_model (model, test_loader)"
   ]
  },
  {
   "cell_type": "code",
   "execution_count": null,
   "metadata": {},
   "outputs": [],
   "source": []
  }
 ],
 "metadata": {
  "kernelspec": {
   "display_name": "Python 3",
   "language": "python",
   "name": "python3"
  },
  "language_info": {
   "codemirror_mode": {
    "name": "ipython",
    "version": 3
   },
   "file_extension": ".py",
   "mimetype": "text/x-python",
   "name": "python",
   "nbconvert_exporter": "python",
   "pygments_lexer": "ipython3",
   "version": "3.7.4"
  }
 },
 "nbformat": 4,
 "nbformat_minor": 2
}
